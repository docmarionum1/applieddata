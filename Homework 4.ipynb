{
 "cells": [
  {
   "cell_type": "markdown",
   "metadata": {},
   "source": [
    "# Homework 4"
   ]
  },
  {
   "cell_type": "markdown",
   "metadata": {},
   "source": [
    "1. Download the 'bk_logit.csv' data file from the course website.  This is a sample of house and apartment sales in New York City between 2003 and 2013.  The label 'bk' indicates whether a sale occurred in Brooklyn.  The features 'age', 'unit_size', and 'single_unit' measure the age of the unit sold in years, the size of the unit sold in square meters, and an indicator of whether the unit sold is a single-family unit.  Estimate a logit model that relates the label to all of the features in the data.  As shown in class, generate the 'Marginal Effects' table to produce results that measure the effect of a change in the feature on the probability that a sale occurred in Brooklyn.  How does age impact the probability of a sale in Brooklyn?  How does unit size impact the probability of a sale in Brooklyn?  How does a being a single unit impact the probability of a sale in Brooklyn?\n",
    "\n",
    "2.  Work on your proposals."
   ]
  }
 ],
 "metadata": {
  "kernelspec": {
   "display_name": "Python 2",
   "language": "python",
   "name": "python2"
  },
  "language_info": {
   "codemirror_mode": {
    "name": "ipython",
    "version": 2
   },
   "file_extension": ".py",
   "mimetype": "text/x-python",
   "name": "python",
   "nbconvert_exporter": "python",
   "pygments_lexer": "ipython2",
   "version": "2.7.9"
  }
 },
 "nbformat": 4,
 "nbformat_minor": 0
}
