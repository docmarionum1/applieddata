{
 "cells": [
  {
   "cell_type": "markdown",
   "metadata": {},
   "source": [
    "# Homework 4"
   ]
  },
  {
   "cell_type": "markdown",
   "metadata": {},
   "source": [
    "1. Download the 'bk_logit.csv' data file from the course website.  This is a sample of house and apartment sales in New York City between 2003 and 2013.  The label 'bk' indicates whether a sale occurred in Brooklyn.  The features 'age', 'unit_size', and 'single_unit' measure the age of the unit sold in years, the size of the unit sold in square meters, and an indicator of whether the unit sold is a single-family unit.  Estimate a logit model that relates the label to all of the features in the data.  As shown in class, generate the 'Marginal Effects' table to produce results that measure the effect of a change in the feature on the probability that a sale occurred in Brooklyn.  How does age impact the probability of a sale in Brooklyn?  How does unit size impact the probability of a sale in Brooklyn?  How does a being a single unit impact the probability of a sale in Brooklyn?\n",
    "\n",
    "2.  Work on your proposals."
   ]
  },
  {
   "cell_type": "code",
   "execution_count": 15,
   "metadata": {
    "collapsed": false
   },
   "outputs": [
    {
     "name": "stdout",
     "output_type": "stream",
     "text": [
      "Populating the interactive namespace from numpy and matplotlib\n"
     ]
    },
    {
     "name": "stderr",
     "output_type": "stream",
     "text": [
      "WARNING: pylab import has clobbered these variables: ['mod']\n",
      "`%matplotlib` prevents importing * from pylab and numpy\n"
     ]
    }
   ],
   "source": [
    "%pylab inline\n",
    "import numpy as np\n",
    "import pandas as pd\n",
    "import statsmodels.formula.api as smf"
   ]
  },
  {
   "cell_type": "code",
   "execution_count": 16,
   "metadata": {
    "collapsed": true
   },
   "outputs": [],
   "source": [
    "data = pd.read_csv('bk_logit.csv')"
   ]
  },
  {
   "cell_type": "code",
   "execution_count": 17,
   "metadata": {
    "collapsed": false
   },
   "outputs": [
    {
     "name": "stdout",
     "output_type": "stream",
     "text": [
      "Optimization terminated successfully.\n",
      "         Current function value: 0.555319\n",
      "         Iterations 6\n",
      "                           Logit Regression Results                           \n",
      "==============================================================================\n",
      "Dep. Variable:                     bk   No. Observations:                30799\n",
      "Model:                          Logit   Df Residuals:                    30795\n",
      "Method:                           MLE   Df Model:                            3\n",
      "Date:                Fri, 09 Oct 2015   Pseudo R-squ.:                  0.1005\n",
      "Time:                        19:11:12   Log-Likelihood:                -17103.\n",
      "converged:                       True   LL-Null:                       -19013.\n",
      "                                        LLR p-value:                     0.000\n",
      "===============================================================================\n",
      "                  coef    std err          z      P>|z|      [95.0% Conf. Int.]\n",
      "-------------------------------------------------------------------------------\n",
      "Intercept      -2.2461      0.049    -46.114      0.000        -2.342    -2.151\n",
      "age             0.0186      0.000     38.985      0.000         0.018     0.020\n",
      "unit_size       0.0020      0.000     18.332      0.000         0.002     0.002\n",
      "single_unit    -0.8314      0.030    -28.043      0.000        -0.890    -0.773\n",
      "===============================================================================\n"
     ]
    }
   ],
   "source": [
    "mod = smf.logit('bk ~ age + unit_size + single_unit', data).fit()\n",
    "print mod.summary()"
   ]
  },
  {
   "cell_type": "code",
   "execution_count": 18,
   "metadata": {
    "collapsed": false
   },
   "outputs": [
    {
     "name": "stdout",
     "output_type": "stream",
     "text": [
      "        Logit Marginal Effects       \n",
      "=====================================\n",
      "Dep. Variable:                     bk\n",
      "Method:                          dydx\n",
      "At:                           overall\n",
      "===============================================================================\n",
      "                 dy/dx    std err          z      P>|z|      [95.0% Conf. Int.]\n",
      "-------------------------------------------------------------------------------\n",
      "age             0.0035    8.2e-05     42.534      0.000         0.003     0.004\n",
      "unit_size       0.0004      2e-05     18.723      0.000         0.000     0.000\n",
      "single_unit    -0.1558      0.005    -29.286      0.000        -0.166    -0.145\n",
      "===============================================================================\n"
     ]
    }
   ],
   "source": [
    "print mod.get_margeff().summary()"
   ]
  },
  {
   "cell_type": "markdown",
   "metadata": {},
   "source": [
    "Unit age has a slight postive effect on sale probability, with each year of age increasing the probaility by about .35%.  Size has almost no effect on sale probablity.  Size also has a slight positive effect, with every added square meter increasing probability by .04% (1% increase per 25 square meters).  If a house is single family it has about 15% lower chance to sell.  "
   ]
  },
  {
   "cell_type": "code",
   "execution_count": null,
   "metadata": {
    "collapsed": true
   },
   "outputs": [],
   "source": []
  }
 ],
 "metadata": {
  "kernelspec": {
   "display_name": "Python 2",
   "language": "python",
   "name": "python2"
  },
  "language_info": {
   "codemirror_mode": {
    "name": "ipython",
    "version": 2
   },
   "file_extension": ".py",
   "mimetype": "text/x-python",
   "name": "python",
   "nbconvert_exporter": "python",
   "pygments_lexer": "ipython2",
   "version": "2.7.10"
  }
 },
 "nbformat": 4,
 "nbformat_minor": 0
}
