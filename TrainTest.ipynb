{
 "cells": [
  {
   "cell_type": "code",
   "execution_count": 1,
   "metadata": {
    "collapsed": false
   },
   "outputs": [
    {
     "name": "stdout",
     "output_type": "stream",
     "text": [
      "Populating the interactive namespace from numpy and matplotlib\n"
     ]
    }
   ],
   "source": [
    "# Load relevant libraries.\n",
    "\n",
    "%pylab inline\n",
    "import matplotlib.pyplot as plt\n",
    "import numpy as np\n",
    "import pandas as pd\n",
    "import statsmodels.api as sm\n",
    "import statsmodels.formula.api as smf\n",
    "from statsmodels.graphics.api import abline_plot\n",
    "import patsy\n",
    "import seaborn as sns\n",
    "sns.set(context='notebook', style='whitegrid', palette='deep', font='sans-serif', font_scale=1, rc=None)\n",
    "import urllib2 as url\n",
    "import sklearn as skl"
   ]
  },
  {
   "cell_type": "code",
   "execution_count": 2,
   "metadata": {
    "collapsed": false
   },
   "outputs": [
    {
     "name": "stdout",
     "output_type": "stream",
     "text": [
      "<class 'pandas.core.frame.DataFrame'>\n",
      "Int64Index: 4601 entries, 0 to 4600\n",
      "Data columns (total 58 columns):\n",
      "v0     4601 non-null float64\n",
      "v1     4601 non-null float64\n",
      "v2     4601 non-null float64\n",
      "v3     4601 non-null float64\n",
      "v4     4601 non-null float64\n",
      "v5     4601 non-null float64\n",
      "v6     4601 non-null float64\n",
      "v7     4601 non-null float64\n",
      "v8     4601 non-null float64\n",
      "v9     4601 non-null float64\n",
      "v10    4601 non-null float64\n",
      "v11    4601 non-null float64\n",
      "v12    4601 non-null float64\n",
      "v13    4601 non-null float64\n",
      "v14    4601 non-null float64\n",
      "v15    4601 non-null float64\n",
      "v16    4601 non-null float64\n",
      "v17    4601 non-null float64\n",
      "v18    4601 non-null float64\n",
      "v19    4601 non-null float64\n",
      "v20    4601 non-null float64\n",
      "v21    4601 non-null float64\n",
      "v22    4601 non-null float64\n",
      "v23    4601 non-null float64\n",
      "v24    4601 non-null float64\n",
      "v25    4601 non-null float64\n",
      "v26    4601 non-null float64\n",
      "v27    4601 non-null float64\n",
      "v28    4601 non-null float64\n",
      "v29    4601 non-null float64\n",
      "v30    4601 non-null float64\n",
      "v31    4601 non-null float64\n",
      "v32    4601 non-null float64\n",
      "v33    4601 non-null float64\n",
      "v34    4601 non-null float64\n",
      "v35    4601 non-null float64\n",
      "v36    4601 non-null float64\n",
      "v37    4601 non-null float64\n",
      "v38    4601 non-null float64\n",
      "v39    4601 non-null float64\n",
      "v40    4601 non-null float64\n",
      "v41    4601 non-null float64\n",
      "v42    4601 non-null float64\n",
      "v43    4601 non-null float64\n",
      "v44    4601 non-null float64\n",
      "v45    4601 non-null float64\n",
      "v46    4601 non-null float64\n",
      "v47    4601 non-null float64\n",
      "v48    4601 non-null float64\n",
      "v49    4601 non-null float64\n",
      "v50    4601 non-null float64\n",
      "v51    4601 non-null float64\n",
      "v52    4601 non-null float64\n",
      "v53    4601 non-null float64\n",
      "v54    4601 non-null float64\n",
      "v55    4601 non-null int64\n",
      "v56    4601 non-null int64\n",
      "v57    4601 non-null int64\n",
      "dtypes: float64(55), int64(3)\n",
      "memory usage: 2.1 MB\n",
      "None\n",
      "count    4601.000000\n",
      "mean        0.394045\n",
      "std         0.488698\n",
      "min         0.000000\n",
      "25%         0.000000\n",
      "50%         0.000000\n",
      "75%         1.000000\n",
      "max         1.000000\n",
      "Name: v57, dtype: float64\n"
     ]
    }
   ],
   "source": [
    "target_url = (\"https://archive.ics.uci.edu/ml/machine-learning-databases/\"\n",
    "              \"spambase/spambase.data\")\n",
    "\n",
    "# Read spam data from UCI repository.\n",
    "spam = pd.read_csv(target_url, header=None, prefix=\"v\")\n",
    "\n",
    "# Note that R indexes from 1, while Python indexes from 0.\n",
    "# Spam indicator is v57.\n",
    "print spam.info()\n",
    "print spam['v57'].describe()"
   ]
  },
  {
   "cell_type": "markdown",
   "metadata": {
    "collapsed": false
   },
   "source": [
    "### Creating Training and Test Samples from Panda's Dataframes\n",
    "\n",
    "We may be faced with a situation that we need to partition dataframes into so-called \"training\" and \"test\" samples.  A training sample would be used to train an algorithm.  A test sample would be used to evaluate the performance of an algorithm.  \n",
    "\n",
    "In the examples below, the training sample will be 2/3rds of the data, and the test sample will be remaining 1/3rd of the data.  \n",
    "\n",
    "The code below demonstrates two ways to do this."
   ]
  },
  {
   "cell_type": "code",
   "execution_count": 3,
   "metadata": {
    "collapsed": false
   },
   "outputs": [
    {
     "name": "stdout",
     "output_type": "stream",
     "text": [
      "3067\n",
      "1534\n",
      "4601\n"
     ]
    }
   ],
   "source": [
    "# METHOD ONE\n",
    "# Every observation in a dataframe has an observation number.  \n",
    "# The modulus of the observation number divided by three is either 0 or non-0.\n",
    "# When the modulus is 0, the observation is a test observation.\n",
    "# When the modulus is non-0, the observation is a training observation.\n",
    "\n",
    "spam['index'] = range(len(spam))\n",
    "\n",
    "# In Python, the % indicates modulus.\n",
    "spam['index'] = spam['index'] % 3\n",
    "spam['test'] = pd.get_dummies(spam['index'] == 1)[1]\n",
    "\n",
    "# We don't need the index, so drop it.\n",
    "del spam['index']\n",
    "\n",
    "# Now we can create new train and test dataframes.\n",
    "# Note the format of these lines code.\n",
    "# It basically resolves as create spamtest as a subset of spam when test is 1.\n",
    "# Otherwise, it is train.\n",
    "spamtrain = spam[spam['test'] == 0]\n",
    "spamtest = spam[spam['test'] == 1]\n",
    "\n",
    "# Confirm data has been split properly.\n",
    "print spamtrain['v57'].count()\n",
    "print spamtest['v57'].count()\n",
    "print spam['v57'].count()"
   ]
  },
  {
   "cell_type": "code",
   "execution_count": 4,
   "metadata": {
    "collapsed": false
   },
   "outputs": [
    {
     "name": "stdout",
     "output_type": "stream",
     "text": [
      "3056\n",
      "1545\n",
      "4601\n"
     ]
    }
   ],
   "source": [
    "# METHOD 2\n",
    "# Generate a uniform[0, 1] draw for every observation in the dataframe.\n",
    "# Flagging those observations with a uniform draw less than 1/3 identifies \n",
    "# the test sample.  The remaining data would be the training sample.\n",
    "\n",
    "seed(12345)\n",
    "spam['index'] = np.random.uniform(low = 0, high = 1, size = len(spam))\n",
    "spam['test'] = pd.get_dummies(spam['index'] <= 0.3333)[1]\n",
    "\n",
    "# We don't need the index, so drop it.\n",
    "del spam['index']\n",
    "\n",
    "# Now we can create new train and test dataframes.\n",
    "# Note the format of these command lines.\n",
    "# It basically resolves as create spamtest as a subset of spam when test is 1.\n",
    "# Otherwise, it is train.\n",
    "spamtrain = spam[spam['test'] == 0]\n",
    "spamtest = spam[spam['test'] == 1]\n",
    "\n",
    "# Confirm data has been split properly.\n",
    "print spamtrain['v57'].count()\n",
    "print spamtest['v57'].count()\n",
    "print spam['v57'].count()"
   ]
  }
 ],
 "metadata": {
  "kernelspec": {
   "display_name": "Python 2",
   "language": "python",
   "name": "python2"
  },
  "language_info": {
   "codemirror_mode": {
    "name": "ipython",
    "version": 2
   },
   "file_extension": ".py",
   "mimetype": "text/x-python",
   "name": "python",
   "nbconvert_exporter": "python",
   "pygments_lexer": "ipython2",
   "version": "2.7.9"
  }
 },
 "nbformat": 4,
 "nbformat_minor": 0
}
