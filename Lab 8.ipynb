{
 "cells": [
  {
   "cell_type": "code",
   "execution_count": 3,
   "metadata": {
    "collapsed": true
   },
   "outputs": [],
   "source": [
    "import numpy as np\n",
    "from tabulate import tabulate"
   ]
  },
  {
   "cell_type": "code",
   "execution_count": 4,
   "metadata": {
    "collapsed": false
   },
   "outputs": [
    {
     "name": "stdout",
     "output_type": "stream",
     "text": [
      "A Rat in a NYC Subway Tunnel\n",
      "╒═════════╤═════════╤═════════╤═════════╤═════════╤═════════╕\n",
      "│         │ Track A │ Track B │ Track C │ Track D │ Track E │\n",
      "├─────────┼─────────┼─────────┼─────────┼─────────┼─────────┤\n",
      "│ Track A │ 1       │ 0       │ 0       │ 0       │ 0       │\n",
      "├─────────┼─────────┼─────────┼─────────┼─────────┼─────────┤\n",
      "│ Track B │ 1/4     │ 1/2     │ 1/4     │ 0       │ 0       │\n",
      "├─────────┼─────────┼─────────┼─────────┼─────────┼─────────┤\n",
      "│ Track C │ 0       │ 1/4     │ 1/2     │ 1/4     │ 0       │\n",
      "├─────────┼─────────┼─────────┼─────────┼─────────┼─────────┤\n",
      "│ Track D │ 0       │ 0       │ 1/4     │ 1/2     │ 1/4     │\n",
      "├─────────┼─────────┼─────────┼─────────┼─────────┼─────────┤\n",
      "│ Track E │ 0       │ 0       │ 0       │ 1/2     │ 1/2     │\n",
      "╘═════════╧═════════╧═════════╧═════════╧═════════╧═════════╛\n",
      "()\n"
     ]
    }
   ],
   "source": [
    "print(\"A Rat in a NYC Subway Tunnel\")\n",
    "table = [\n",
    "        [\" \", \"Track A\", \"Track B\", \"Track C\", \"Track D\", \"Track E\"],\n",
    "        [\"Track A\", \"1\", \"0\", \"0\", \"0\", \"0\"],\n",
    "        [\"Track B\", \"1/4\", \"1/2\", \"1/4\", \"0\", \"0\"],\n",
    "        [\"Track C\", \"0\", \"1/4\", \"1/2\", \"1/4\", \"0\"],\n",
    "        [\"Track D\", \"0\", \"0\", \"1/4\", \"1/2\", \"1/4\"],\n",
    "        [\"Track E\", \"0\", \"0\", \"0\", \"1/2\", \"1/2\"],\n",
    "    \n",
    "    ]\n",
    "print(tabulate(table, tablefmt=\"fancy_grid\", numalign = \"center\"))\n",
    "print()"
   ]
  },
  {
   "cell_type": "code",
   "execution_count": 13,
   "metadata": {
    "collapsed": false
   },
   "outputs": [],
   "source": [
    "MT = np.matrix('1 0 0 0 0; .25 0.5 .25 0 0; 0 .25 0.5 .25 0; 0 0 .25 .5 .25; 0 0 0 .5 .5')"
   ]
  },
  {
   "cell_type": "code",
   "execution_count": 32,
   "metadata": {
    "collapsed": false
   },
   "outputs": [
    {
     "name": "stdout",
     "output_type": "stream",
     "text": [
      "C 175\n",
      "D 182\n",
      "E 184\n"
     ]
    }
   ],
   "source": [
    "for track, rat in [('C', np.matrix('0 0 1 0 0')), ('D', np.matrix('0 0 0 1 0')), ('E', np.matrix('0 0 0 0 1'))]:\n",
    "    iterations = 1\n",
    "    while (rat * np.linalg.matrix_power(MT, iterations)).item(0) < .999:\n",
    "        iterations += 1\n",
    "\n",
    "    print track, iterations"
   ]
  },
  {
   "cell_type": "code",
   "execution_count": null,
   "metadata": {
    "collapsed": true
   },
   "outputs": [],
   "source": []
  }
 ],
 "metadata": {
  "kernelspec": {
   "display_name": "Python 2",
   "language": "python",
   "name": "python2"
  },
  "language_info": {
   "codemirror_mode": {
    "name": "ipython",
    "version": 2
   },
   "file_extension": ".py",
   "mimetype": "text/x-python",
   "name": "python",
   "nbconvert_exporter": "python",
   "pygments_lexer": "ipython2",
   "version": "2.7.10"
  }
 },
 "nbformat": 4,
 "nbformat_minor": 0
}
