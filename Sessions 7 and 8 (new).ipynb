{
 "cells": [
  {
   "cell_type": "markdown",
   "metadata": {},
   "source": [
    "# Time Series Analysis"
   ]
  },
  {
   "cell_type": "markdown",
   "metadata": {},
   "source": [
    "## Introduction"
   ]
  },
  {
   "cell_type": "markdown",
   "metadata": {},
   "source": [
    "A time series is simply the observation of a random variable $\\{x_t\\}$ over a sample time frame, $t=1,...,T$.  Examples include financial data, temperature data, the luminosity of lights in an NYC apartment througout the evening, or the ambient sound on the NYC street corner throughout the day.\n",
    "\n",
    "Time increments could be a month, a day, a second, or something smaller.\n",
    "\n",
    "We propose that some Data Genereating Process gave rise to the observations.\n",
    "\n",
    "Our goal is to the model a time series in order to learn about its characteristics, either for hypothesis testing or prediction.\n",
    "\n",
    "### Key Topics in Time Series Analysis\n",
    "\n",
    "1. Trends.  Are there consistent upward or downward patterns?\n",
    "2. Serial dependence.  Are there positive or negative correlations of time-adjacent observations?\n",
    "3. Stationarity.  Would the series diverge to $\\pm \\infty$ in finite time? \n",
    "\n",
    "Let's look at two time series to discuss these key topics."
   ]
  },
  {
   "cell_type": "code",
   "execution_count": 1,
   "metadata": {
    "collapsed": false
   },
   "outputs": [],
   "source": [
    "%matplotlib inline\n",
    "import warnings\n",
    "import numpy as np\n",
    "import pandas as pd\n",
    "from numpy import random\n",
    "from scipy import stats\n",
    "import matplotlib.pyplot as plt\n",
    "import seaborn as sns\n",
    "import Quandl\n",
    "import statsmodels as sm\n",
    "import statsmodels.formula.api as smf\n",
    "import statsmodels.api as sma\n",
    "import patsy\n",
    "from statsmodels.graphics.api import abline_plot\n",
    "import numpy.linalg as linalg\n",
    "from mpl_toolkits.mplot3d import Axes3D\n",
    "from matplotlib.colors import ListedColormap\n",
    "from sklearn import neighbors, datasets\n",
    "from tabulate import tabulate\n",
    "warnings.simplefilter('ignore')\n",
    "sns.set(context='notebook', style='whitegrid', palette='deep', font='sans-serif', font_scale=1, rc=None)"
   ]
  },
  {
   "cell_type": "code",
   "execution_count": null,
   "metadata": {
    "collapsed": false
   },
   "outputs": [],
   "source": [
    "start_date = \"2000-01-01\"\n",
    "end_date = \"2015-10-10\"\n",
    "tbill3Q = Quandl.get(\"FRED/DTB3\", trim_start=start_date, trim_end=end_date)\n",
    "tbond10Q = Quandl.get(\"FRED/DGS10\", trim_start=start_date, trim_end=end_date)\n",
    "\n",
    "tbill3 = tbill3Q['VALUE']\n",
    "tbond10 = tbond10Q['VALUE']"
   ]
  },
  {
   "cell_type": "code",
   "execution_count": null,
   "metadata": {
    "collapsed": false
   },
   "outputs": [],
   "source": [
    "plt.figure(figsize = (8, 6))\n",
    "tbill3.plot(color = 'blue')\n",
    "plt.title('3 Month US Treasurys Since 2000', fontsize=20)\n",
    "plt.ylabel('%')\n",
    "plt.ylim(0,7)"
   ]
  },
  {
   "cell_type": "code",
   "execution_count": null,
   "metadata": {
    "collapsed": false
   },
   "outputs": [],
   "source": [
    "plt.figure(figsize = (8, 6))\n",
    "tbond10.plot(color = 'blue')\n",
    "plt.title('10 Year US Bonds Since 2000', fontsize=20)\n",
    "plt.ylabel('%')"
   ]
  },
  {
   "cell_type": "markdown",
   "metadata": {},
   "source": [
    "### How We Will Proceed\n",
    "\n",
    "1. Start with Markov processes and how to model them.\n",
    "2. Turn to formal times series models building up from white noise processes.\n",
    "3. Autoregressive models of order 1, AR(1).  \n",
    "4. The unit root: linking AR(1) to Markov processes.\n",
    "5. Moving average models.  \n",
    "6. ARMA.\n",
    "7. Filtering trends and cyclicality."
   ]
  },
  {
   "cell_type": "markdown",
   "metadata": {},
   "source": [
    "## Introduction to Markov Processes"
   ]
  },
  {
   "cell_type": "code",
   "execution_count": null,
   "metadata": {
    "collapsed": false
   },
   "outputs": [],
   "source": [
    "print(\"Deterministic Markov Transition Matrix\")\n",
    "table = [[\" \", \"S\", \"M\", \"T\", \"W\", \"T\", \"F\", \"S\"],\n",
    "         [\"S\", \"0\", \"1\", \"0\", \"0\", \"0\", \"0\", \"0\",],\n",
    "         [\"M\", \"0\", \"0\", \"1\", \"0\", \"0\", \"0\", \"0\",],\n",
    "         [\"T\", \"0\", \"0\", \"0\", \"1\", \"0\", \"0\", \"0\",],\n",
    "         [\"W\", \"0\", \"0\", \"0\", \"0\", \"1\", \"0\", \"0\",],\n",
    "         [\"T\", \"0\", \"0\", \"0\", \"0\", \"0\", \"1\", \"0\",],\n",
    "         [\"F\", \"0\", \"0\", \"0\", \"0\", \"0\", \"0\", \"1\",],\n",
    "         [\"S\", \"1\", \"0\", \"0\", \"0\", \"0\", \"0\", \"0\",],]\n",
    "print(tabulate(table, tablefmt=\"fancy_grid\", numalign = \"center\"))\n",
    "print()"
   ]
  },
  {
   "cell_type": "code",
   "execution_count": null,
   "metadata": {
    "collapsed": false
   },
   "outputs": [],
   "source": [
    "print(\"Day of Week Vector: Today is Monday\")\n",
    "table = [[\"S\", \"M\", \"T\", \"W\", \"T\", \"F\", \"S\"],\n",
    "         [\"0\", \"1\", \"0\", \"0\", \"0\", \"0\", \"0\",]]\n",
    "print(tabulate(table, tablefmt=\"fancy_grid\", numalign = \"center\"))\n",
    "print()"
   ]
  },
  {
   "cell_type": "markdown",
   "metadata": {},
   "source": [
    "How do we iterate the day of the week?  Today is Monday.  What is tomorrow?\n",
    "\n",
    "day of week vector * Markov transition matrix = ? "
   ]
  },
  {
   "cell_type": "code",
   "execution_count": null,
   "metadata": {
    "collapsed": false
   },
   "outputs": [],
   "source": [
    "# Let's find out.\n",
    "\n",
    "MT = np.matrix('0 1 0 0 0 0 0; 0 0 1 0 0 0 0; 0 0 0 1 0 0 0; 0 0 0 0 1 0 0; 0 0 0 0 0 1 0; 0 0 0 0 0 0 1; 1 0 0 0 0 0 0')\n",
    "dow = np.matrix('0 1 0 0 0 0 0')\n",
    "\n",
    "print(\"Markov Transition Matrix\")\n",
    "print(MT)\n",
    "print()\n",
    "print(\"Today\")\n",
    "print(dow)\n",
    "print()\n",
    "print(\"Tomorrow\")\n",
    "print (dow * MT)\n",
    "print()\n",
    "print(\"The Day After Tomorrow\")\n",
    "print (dow * MT * MT)\n",
    "print()\n",
    "print(\"The Day After Tomorrow Using Linear Algebra\")\n",
    "print (dow * np.linalg.matrix_power(MT, 2))"
   ]
  },
  {
   "cell_type": "markdown",
   "metadata": {},
   "source": [
    "Obviously, tomorrow is Tuesday, and, because tomorrow is Tuesday, the day after tomorrow is Wednesday.  So, you do this every day.  Moreover, this simple deterministic example highlights the important aspects of Markov processes (of which MCMC is a part).\n",
    "\n",
    "1. A Markov process records movement of a state vector through time.  In this example, the state vector is the day of the week.\n",
    "2. Based on the Markov process, my knowledge of tomorrow is dependent $only$ on what I know today.  It does not matter what I knew yesterday.  Using this deterministic example, I know it will be Tuesday tomorrow because I know it is Monday today.  It does not matter (and I do not need to know) that yesterday was Sunday."
   ]
  },
  {
   "cell_type": "code",
   "execution_count": null,
   "metadata": {
    "collapsed": false
   },
   "outputs": [],
   "source": [
    "# This is exactly how we use a Markov matrix of transition probabilities\n",
    "# to iterate a system series through time.\n",
    "\n",
    "# The state vector at time t (the system at time t) \n",
    "# times the transition probabilities yields the probabilitistic forecast\n",
    "# of the state vector in time t+1.\n",
    "\n",
    "# How would you calculate the day after the day after tomorrow?\n",
    "\n",
    "print (dow * MT * MT)\n",
    "print (dow * np.linalg.matrix_power(MT, 2))"
   ]
  },
  {
   "cell_type": "markdown",
   "metadata": {},
   "source": [
    "### Formally\n",
    "\n",
    "A Markov process $\\{x_t\\}$ is a stochastic process with the property that, given the outcome of $\\{x_t\\}$, the outcomes of $\\{x_s\\}$ for $s > t$ are unaffected by the outcomes of $\\{x_u\\}$ for $u < t$.  Therefore, $Pr(x_t = j \\big| x_{t-1} = i_{t-1}, x_{t-2} = i_{t-2}, ...) = Pr(x_t = j \\big| x_{t-1} = i_{t-1})$.\n",
    "\n",
    "Write the above as $P_{ij}$: transition probability from state i to state j.  Knowing last period’s outcome is all we need."
   ]
  },
  {
   "cell_type": "code",
   "execution_count": null,
   "metadata": {
    "collapsed": false
   },
   "outputs": [],
   "source": [
    "# Let's apply this to something non-deterministic using a NYC Subway rat.\n",
    "# If on Track A, Pr(stays) = 1/2 and Pr(moves to B) = 1/2\n",
    "# If on Track B, Pr(stays) = 1/2, Pr(move to A) = 1/4, and Pr(moves to C) = 1/4\n",
    "# If on Track C, Pr(stays) = 1/2 and Pr(moves to C) = 1/2\n",
    "\n",
    "print(\"A Rat in a NYC Subway Tunnel\")\n",
    "table = [[\" \", \"Track A\", \"Track B\", \"Track C\"],\n",
    "        [\"Track A\", \"1/2\", \"1/2\", \"0\"],\n",
    "        [\"Track B\", \"1/4\", \"1/2\", \"1/4\"],\n",
    "        [\"Track C\", \"0\", \"1/2\", \"1/2\"],]\n",
    "print(tabulate(table, tablefmt=\"fancy_grid\", numalign = \"center\"))\n",
    "print()\n",
    "\n",
    "MT = np.matrix('0.5 0.5 0; 0.25 0.5 0.25; 0 0.5 0.5')\n",
    "print(\"As an Numpy matrix\")\n",
    "print(MT)"
   ]
  },
  {
   "cell_type": "code",
   "execution_count": null,
   "metadata": {
    "collapsed": true
   },
   "outputs": [],
   "source": [
    "# On which track do you want to place the rat in the initial time period?\n",
    "\n",
    "rat = np.matrix('1 0 0')"
   ]
  },
  {
   "cell_type": "code",
   "execution_count": null,
   "metadata": {
    "collapsed": false
   },
   "outputs": [],
   "source": [
    "# Now iterate the rate through time.\n",
    "# The future location of the rat is inherently probabilistic (like electrons).\n",
    "\n",
    "for i in range(1, 21):\n",
    "    print('Probability rat in on Track A, B, or C at time t + %i' % (i))\n",
    "    print(rat * np.linalg.matrix_power(MT, i))\n",
    "    print()"
   ]
  },
  {
   "cell_type": "code",
   "execution_count": null,
   "metadata": {
    "collapsed": false
   },
   "outputs": [],
   "source": [
    "# Now start the rat on Track C and iterate.\n",
    "\n",
    "rat = np.matrix('0 0 1')\n",
    "for i in range(1, 21):\n",
    "    print('Probability rat in on Track A, B, or C at time t + %i' % (i))\n",
    "    print(rat * np.linalg.matrix_power(MT, i))\n",
    "    print()"
   ]
  },
  {
   "cell_type": "code",
   "execution_count": null,
   "metadata": {
    "collapsed": false
   },
   "outputs": [],
   "source": [
    "### The limiting probability distribution is obtained\n",
    "# by raising the transition matrix to an arbitrarily large number.\n",
    "# Asymptotically, it does not matter on which track the rat started.\n",
    "# You could consider this is be a long run probabilistic forecast.\n",
    "# Suppose you want to kill the rat, and you could electrify only one track.  \n",
    "# Which track would you electrify?\n",
    "\n",
    "rat = np.matrix('.3333333333333 .3333333333 0.333333333333333333333333333333333333333333333333333333333333333333333333')\n",
    "print('Probability rat in on Track A, B, or C in the long run')\n",
    "print(rat * np.linalg.matrix_power(MT, 100000))"
   ]
  },
  {
   "cell_type": "code",
   "execution_count": null,
   "metadata": {
    "collapsed": false
   },
   "outputs": [],
   "source": [
    "# Simple Application 1: A Random Walk.\n",
    "\n",
    "# Set an arbitrary starting point and iterate the system using a simple Markov process.\n",
    "# Each second, this Markov process can move up 1 or it can move down, which it does at random.\n",
    "# Pr(up) = Pr(down) = 0.5.\n",
    "\n",
    "# pos is starting position.\n",
    "# draws are random integers, {0, 1}.\n",
    "# step is -1 if random draw is 0 and +1 if random draw is 1.\n",
    "# walk is the vector containing each step.\n",
    "\n",
    "random.seed(1234)\n",
    "\n",
    "pos = 100  \n",
    "walk = [pos] # walk is the array that tracks the random path\n",
    "nsteps = 10000 # establishs number of random steps\n",
    "for i in range(nsteps):\n",
    "    step = 1 if np.random.randint(0, 2) else -1 # Bernoulli draw to step \"up\" or \"down\"\n",
    "    pos += step\n",
    "    walk.append(pos)\n",
    "\n",
    "plt.plot(walk[0:100])\n",
    "plt.title('First 100 Seconds', fontsize=20)\n",
    "plt.xlabel('Seconds', fontsize=16)"
   ]
  },
  {
   "cell_type": "code",
   "execution_count": null,
   "metadata": {
    "collapsed": false
   },
   "outputs": [],
   "source": [
    "plt.plot(walk, 'r')\n",
    "plt.title(\"What Does This Look Like?\", fontsize=20)\n",
    "plt.xlabel('Seconds', fontsize=16)"
   ]
  },
  {
   "cell_type": "code",
   "execution_count": null,
   "metadata": {
    "collapsed": false
   },
   "outputs": [],
   "source": [
    "aapl_all = Quandl.get(\"YAHOO/AAPL\", trim_start=\"2012-1-1\", trim_end=\"2013-1-1\")\n",
    "aapl = aapl_all['Adjusted Close']\n",
    "\n",
    "plt.figure(figsize = (8, 6))\n",
    "aapl.plot(color = 'blue')\n",
    "plt.title('Apple Share Price (2012)', fontsize=20)\n",
    "plt.ylabel('$', fontsize=16)"
   ]
  },
  {
   "cell_type": "code",
   "execution_count": null,
   "metadata": {
    "collapsed": false
   },
   "outputs": [],
   "source": [
    "# Simple Application 2: A Drunken Sailor on a Mountaintop\n",
    "# A drunken sailor is dropped off at the center of a Cartesian mountain.\n",
    "# The sailer stumbles forward and backward, and then to the left and to the right.\n",
    "# Each stumble is random because he is drunk.\n",
    "\n",
    "random.seed(1066)\n",
    "edge = 100\n",
    "nsteps = 10000\n",
    "\n",
    "pos1, pos2 = 0, 0  \n",
    "walk1, walk2 = [pos1], [pos2] \n",
    "for i in range(nsteps):\n",
    "    step1 = 1 if np.random.randint(0, 2) else -1 \n",
    "    step2 = 1 if np.random.randint(0, 2) else -1\n",
    "    pos1 += step1\n",
    "    pos2 += step2\n",
    "    if np.abs(pos1) > 100 or np.abs(pos2) > 100:\n",
    "        print(\"Sailor fell off the moutain at coordinates\", pos1, pos2, \"on step\", i)\n",
    "        break\n",
    "    walk1.append(pos1)\n",
    "    walk2.append(pos2)"
   ]
  },
  {
   "cell_type": "code",
   "execution_count": null,
   "metadata": {
    "collapsed": false
   },
   "outputs": [],
   "source": [
    "plt.plot(walk1, walk2, 'b')\n",
    "plt.title(\"Path of the Drunken Sailor\", fontsize=20)\n",
    "plt.xlim(-edge, edge)\n",
    "plt.ylim(-edge, edge)"
   ]
  },
  {
   "cell_type": "code",
   "execution_count": null,
   "metadata": {
    "collapsed": true
   },
   "outputs": [],
   "source": [
    "nsteps = 100000\n",
    "\n",
    "pos1, pos2, pos3 = 0, 0 , 0\n",
    "walk1, walk2, walk3 = [pos1], [pos2], [pos3]\n",
    "for i in range(nsteps):\n",
    "    step1 = 1 if random.randint(0, 2) else -1 \n",
    "    step2 = 1 if random.randint(0, 2) else -1\n",
    "    step3 = 0 if random.randint(0, 2) else -1\n",
    "    pos1 += step1\n",
    "    pos2 += step2\n",
    "    pos3 += step3\n",
    "\n",
    "    walk1.append(pos1)\n",
    "    walk2.append(pos2)\n",
    "    walk3.append(pos3)"
   ]
  },
  {
   "cell_type": "code",
   "execution_count": null,
   "metadata": {
    "collapsed": false
   },
   "outputs": [],
   "source": [
    "from mpl_toolkits.mplot3d.axes3d import Axes3D\n",
    "\n",
    "fig = plt.figure(figsize = (20, 10))\n",
    "ax = fig.add_subplot(121, projection='3d')\n",
    "ax.plot(walk1, walk2, walk3, 'b')\n",
    "plt.title('Tunnels in a Mountain', fontsize=20)"
   ]
  },
  {
   "cell_type": "markdown",
   "metadata": {
    "collapsed": false
   },
   "source": [
    "### Absorbing States\n",
    "\n",
    "Suppose there existed an absorbing state, from which a system could not escape.  How would we model this?  Think about our Subway rat.  Suppose one rail was already electrified.  If he touches it, our rat dies."
   ]
  },
  {
   "cell_type": "code",
   "execution_count": null,
   "metadata": {
    "collapsed": false
   },
   "outputs": [],
   "source": [
    "print(\"A Rat in a NYC Subway Tunnel\")\n",
    "table = [[\" \", \"Track A\", \"Track B\", \"Track C\"],\n",
    "        [\"Track A\", \"1\", \"0\", \"0\"],\n",
    "        [\"Track B\", \"1/4\", \"1/2\", \"1/4\"],\n",
    "        [\"Track C\", \"0\", \"1/2\", \"1/2\"],]\n",
    "print(tabulate(table, tablefmt=\"fancy_grid\", numalign = \"center\"))\n",
    "print()\n",
    "\n",
    "MT = np.matrix('1 0 0; 0.25 0.5 0.25; 0 0.5 0.5')\n",
    "print(\"As an Numpy matrix\")\n",
    "print(MT)"
   ]
  },
  {
   "cell_type": "code",
   "execution_count": null,
   "metadata": {
    "collapsed": false
   },
   "outputs": [],
   "source": [
    "# Start the rat on Track C and iterate.\n",
    "\n",
    "rat = np.matrix('0 0 1')\n",
    "print('Probability rat in on Track A, B, or C in the long run')\n",
    "print(rat * np.linalg.matrix_power(MT, 10))"
   ]
  },
  {
   "cell_type": "markdown",
   "metadata": {},
   "source": [
    "### Markov Chain Lab\n",
    "\n",
    "Consider the Subway rat above.  Add two tracks to the right of Track C, labeling them Track D and Track E.  In this situation, treat Track A as an absorbing state.  If the rat is on any track other than Tracks A or E, it has probability 0.5 of remaining on that track, probability 0.25 of moving left, and probability 0.25 of moving right.  For Track E, assume probability 0.5 of remaining on that track, and probability 0.5 of moving left.  \n",
    "\n",
    "Write out the matrix of Markov transition probabilities.  Iterate this matrix forward as many times as is necessary for you to determine empirically its limit.  Based on this limit, what can you say about the evolution of the system if the rat begins on Track C?  How about Track D?  Is there a general conclusion you can draw?"
   ]
  },
  {
   "cell_type": "markdown",
   "metadata": {},
   "source": [
    "## Application: Markov Transition Probabilities of Taxi Cabs\n",
    "\n",
    "We can use our classifiers to generate empirically-based Markov transition probabilities.  I did so to examine two things:\n",
    "\n",
    "1. Land use in California.\n",
    "2. The movement of Yellow Cabs in NYC.\n",
    "\n",
    "Let's discuss the latter.  In any given year, there are ~180 million yellow cab journeys in New York City (NYC).  There are ~13,000 licensed yellow cabs that are in nearly-continuous daily operation.  Typically, each cab has two drivers per day who switch driving shifts around 4pm ET (frequently in Queens).  Each cab makes ~14,000 journeys/year."
   ]
  },
  {
   "cell_type": "code",
   "execution_count": null,
   "metadata": {
    "collapsed": false
   },
   "outputs": [],
   "source": [
    "from PIL import Image\n",
    "import urllib.request as url\n",
    "import io\n",
    "\n",
    "print(\"TLC's Geography of New York City\")\n",
    "fd = url.urlopen(\"http://www.east-harlem.com/images/taximap.jpg\")\n",
    "image_file = io.BytesIO(fd.read())\n",
    "Image.open(image_file) "
   ]
  },
  {
   "cell_type": "markdown",
   "metadata": {},
   "source": [
    "We want to calculate the Pr(drop-off is a particular location | pick-up is a particular location).  \n",
    "\n",
    "How to proceed?  We need to turn a classifier into a probabilistic predictor.  Fortunately, doing so is simple.  In the taxi example, the dataframe includes the location of the pick-up and location of the drop-off (as well as many other features).  We want to calculate the Pr(drop-off is a particular location | pick-up is a particular location).  Using the TLC map, we want, for example, Pr(drop-off is Chelsea | pick-up is the Upper West Side).  This is simple: Geocode the locations according to the TLC map and use the pick-up location as a feature.  Given the size of taxi data, we are assured that multiple journeys begin in every location and end in every location.  \n",
    "\n",
    "The problem is how to scale this effort given the massive size of the TLC data.  Unfortunately, the TLC data are too massive to use the Multinomial Logit (MNL) classifier, which is the simplest classifier to use in this situation.  \n",
    "\n",
    "In joint CUSP discussions about scalable classifiers (highlighting the benefits of places such as CUSP), we decided to use the Random Forest algorithm.  We first selected a training set of about 500 million journeys.  We trained the classifier using a number of different features: pick-up location; time of day; day of week; number of passengers; population density; business density; weather.  (The training is exactly what we did in last Monday's class, except we did it in R.)\n",
    "\n",
    "For the purpose of prediction, we need to obtain model-based Markov transition probabilities.  Here, we created large test dataframes using bootstrap methods with replacement for all features other than pick-up location.  For pick-up location, we drew at random integers associated with each possible location.  In other words, for the non pick-up location feature, we have representative features.  For the pick-up location, we random generated the locations.  This is precisely what we want: this is experimentation.  \n",
    "\n",
    "Pass the test dataframes through the trained RF algorithm.  For each of the random pick-up locations (and representative features), the algorithm predicts where the cab will drop off.  Therefore,  \n",
    "\n",
    "Pr(drop-off is Chelsea | pick-up is the Upper West Side) = \n",
    "\n",
    "(# of drop-offs in Chelsea having randomly started in the Upper West Side) / (# of random starts on the Upper West Side).\n",
    "\n",
    "It is simple accounting.  Let me show you what we found.\n",
    "\n",
    "### Slides"
   ]
  },
  {
   "cell_type": "code",
   "execution_count": null,
   "metadata": {
    "collapsed": false
   },
   "outputs": [],
   "source": [
    "# Let me show you a simple example of what we did.  \n",
    "# Remember for sklearn, we need Numpy arrays.\n",
    "# LABEL\n",
    "# do is dropoff: 1 is UWS; 2 is Chelsea; 3 is UES; 4 is Midtown\n",
    "\n",
    "# FEATURES\n",
    "# pu is pickup: 1 is UWS; 2 is Chelsea; 3 is UES; 4 is Midtown\n",
    "# tod is time of day based on 24-hour clock\n",
    "# dow is day of week, Sunday = 0\n",
    "# passengers is the number of passengers that got in the cab.\n",
    "\n",
    "# First observation: \n",
    "# 5 passengers on Sunday morning, between 3 and 4 AM, leave the UES (a bar)\n",
    "# to go to the UWS (I trust to another another bar).  \n",
    "\n",
    "taxi = pd.read_stata(\"taximarkov.dta\")\n",
    "print(taxi.head())\n",
    "ytrain = taxi['do'].as_matrix(columns=None).astype(int)\n",
    "Xtrain = taxi[['pu', 'tod', 'dow', 'passengers']].as_matrix(columns=None).astype(int)\n",
    "#print (ytrain[0:10])\n",
    "#print (Xtrain[0:10])"
   ]
  },
  {
   "cell_type": "code",
   "execution_count": null,
   "metadata": {
    "collapsed": false
   },
   "outputs": [],
   "source": [
    "# Train our learners.\n",
    "\n",
    "from sklearn.naive_bayes import GaussianNB\n",
    "\n",
    "gnb = GaussianNB()\n",
    "gnb.fit(Xtrain, ytrain)\n",
    "\n",
    "from sklearn.ensemble import RandomForestClassifier\n",
    "\n",
    "rf = RandomForestClassifier(n_estimators = 100)\n",
    "rf.fit(Xtrain, ytrain)"
   ]
  },
  {
   "cell_type": "code",
   "execution_count": null,
   "metadata": {
    "collapsed": false
   },
   "outputs": [],
   "source": [
    "# Create a prediction (in reverse order): 1 passenger on a Monday at 2pm picked up in Chelsea.\n",
    "# Where does she go?\n",
    "# Naive Bayes says UES.\n",
    "# Random Forests says Midtown.\n",
    "\n",
    "Xtest = [2, 14, 2, 1]\n",
    "print(gnb.predict(Xtest))\n",
    "Xtest = [2, 14, 2, 1]\n",
    "print(rf.predict(Xtest))"
   ]
  },
  {
   "cell_type": "markdown",
   "metadata": {},
   "source": [
    "Why do this?\n",
    "\n",
    "1. It is simple to calculate naive Markov transition probabilities from the observed outcomes.  If one tried to use them for policy-making, however, one would probably not make good policy.  For example, one rationale for the outer-borough green cabs was the belief that journeys were largely borough-specific.  This belief is unfounded once one accounts for relevant features.  Many journeys begin in the outer-boroughs and end in Manhattan and the reverse is also true.    \n",
    "2. For the purpose of policy-making, many journeys that begin in Queens and in Brooklyn end in Manhattan, controlling for other features.  The bridges that traverse the East River are free to passengers from the point of provision, but the tunnels are not.  It is time to tax the bridges.\n",
    "3. This is a substantial methodological advancement.  We now can simulate cause and effect using the tools of ML and the existence of big data.  (For more information information on this point, see Susan Athey: https://www.youtube.com/watch?v=L72E08QsyMc)    "
   ]
  },
  {
   "cell_type": "markdown",
   "metadata": {},
   "source": [
    "# White Noise Processes"
   ]
  },
  {
   "cell_type": "markdown",
   "metadata": {},
   "source": [
    "Markov processes give us one way to model time series.  \n",
    "\n",
    "We need more building blocks to develop the DGPs we think form the foundation of time series outcomes.  Let’s start with the simplest, so-called “white noise”.  Like Markov processes, white noise (WN) processes are also ubiquitous in modeling.  Eonomics and the physical sciences use Brownian motion (Wiener processes in stochastic calculus) to describe the evolution of many systems.\n",
    "\n",
    "The definition in this context is simple: independent draws from some probability distribution with zero mean and finite variance.  We will focus on so-called “Gaussian” white noise: draws from N(0,1).  Each “period” we draw at random from N(0,1) and simply connect the dots over “time”.\n",
    "\n",
    "\n",
    "## Characteristics\n",
    "\n",
    "White noise processes arise independent draws from some probability distribution with zero mean and finite variance.  Therefore, by design, the resulting time series process:\n",
    "\n",
    "1. Has no trend.\n",
    "2. Has no serial dependence.  (Yesterday does not matter for today.  Today does not matter for tomorrow.)\n",
    "3. Is stationary.\n",
    "\n",
    "As such, it is an ideal building block."
   ]
  },
  {
   "cell_type": "code",
   "execution_count": null,
   "metadata": {
    "collapsed": false
   },
   "outputs": [],
   "source": [
    "y = np.random.normal(0, 1, 1000)\n",
    "\n",
    "plt.figure(figsize = (8, 6))\n",
    "plt.plot(y, 'b')\n",
    "plt.title(r'Gaussian White Noise', fontsize=20)\n",
    "plt.axhline(0, color='k', ls='--', lw=2)\n",
    "plt.ylabel('1,000 Draws from N(0,1)', fontsize=16)\n",
    "plt.ylim(-6, 6)"
   ]
  },
  {
   "cell_type": "code",
   "execution_count": null,
   "metadata": {
    "collapsed": false
   },
   "outputs": [],
   "source": [
    "# Increase the variance\n",
    "\n",
    "y = np.random.normal(0, 2, 1000)\n",
    "\n",
    "plt.figure(figsize = (8, 6))\n",
    "plt.plot(y, 'b')\n",
    "plt.title(r'Gaussian White Noise', fontsize=20)\n",
    "plt.axhline(0, color='k', ls='--', lw=2)\n",
    "plt.ylabel('1,000 Draws from N(0,2)', fontsize=16)\n",
    "plt.ylim(-6, 6)"
   ]
  },
  {
   "cell_type": "code",
   "execution_count": null,
   "metadata": {
    "collapsed": false
   },
   "outputs": [],
   "source": [
    "# And yet more\n",
    "\n",
    "y = np.random.normal(0, 4, 1000)\n",
    "\n",
    "plt.figure(figsize = (8, 6))\n",
    "plt.plot(y, 'b')\n",
    "plt.title(r'Gaussian White Noise', fontsize=20)\n",
    "plt.axhline(0, color='k', ls='--', lw=2)\n",
    "plt.ylabel('1,000 Draws from N(0,4)', fontsize=16)\n",
    "plt.ylim(-6, 6)"
   ]
  },
  {
   "cell_type": "markdown",
   "metadata": {},
   "source": [
    "Does the higher variance matter?\n",
    "\n",
    "Increasing the variance increases the “noise” of white noise.  As long as the variance is finite, the characteristics of white noise processes remain unchanged and equally appealing.  Therefore, we will focus on white noise processes using N(0,1).\n",
    "Let’s look at a simple example."
   ]
  },
  {
   "cell_type": "code",
   "execution_count": null,
   "metadata": {
    "collapsed": false
   },
   "outputs": [],
   "source": [
    "time = np.arange(0, 1000, 1)\n",
    "y = np.cos(np.pi * time / 100)\n",
    "\n",
    "plt.figure(figsize = (8, 6))\n",
    "plt.plot(y, 'b')\n",
    "plt.title(r'Hypothetical Sound Waves, $\\cos(\\pi \\cdot time/100)$', fontsize=20)\n",
    "plt.ylim(-3, 3)"
   ]
  },
  {
   "cell_type": "code",
   "execution_count": null,
   "metadata": {
    "collapsed": false
   },
   "outputs": [],
   "source": [
    "x = y + np.random.normal(0, 1, len(time))\n",
    "plt.figure(figsize = (8, 6))\n",
    "plt.plot(x, 'b')\n",
    "plt.title(r'The Signal and the Noise, $\\cos(\\pi \\cdot time/100)+N(0,1)$', fontsize=20)\n",
    "plt.ylim(-3, 3)"
   ]
  },
  {
   "cell_type": "markdown",
   "metadata": {},
   "source": [
    "# Autoregressive Processes of Order 1: AR(1)"
   ]
  },
  {
   "cell_type": "markdown",
   "metadata": {},
   "source": [
    "We can write the AR(1) process as follows: $y_t = \\rho y_{t-1} + \\epsilon_t$ for $|\\rho|<1$.  This process would model the rule that, \"Today is mostly yesterday plus a little noise.\"  \n",
    "\n",
    "Let $\\rho$ denote the extent to which yesterday affects today, assuming a diminishing effect or $|\\rho|<1$.  Often, we refer to the $\\epsilon$'s as \"innovations\".  \n",
    "\n",
    "Therefore, today's realization, $y_t$, is primarily yesterday's realization, $\\rho y_{t-1}$, plus today's innovation, $\\epsilon_t$.\n",
    "\n",
    "Let's build an AR(1) process from the bottom up.\n",
    "\n",
    "$y_1 = \\epsilon_1$: Take a single draw from $N(0,1)$ to begin the process.\n",
    "\n",
    "$y_2 = \\rho y_1 + \\epsilon_2$: Take another single draw and continue to build the process.\n",
    "\n",
    "$y_3 = \\rho y_2 + \\epsilon_3$\n",
    "\n",
    "And so on\n",
    "\n",
    "$y_T = \\rho y_{T-1} + \\epsilon_T$"
   ]
  },
  {
   "cell_type": "code",
   "execution_count": null,
   "metadata": {
    "collapsed": false
   },
   "outputs": [],
   "source": [
    "# Let's generate and graph, changing the value of rho to particular values.\n",
    "# Start with rho = 0\n",
    "# Examine with rho = 0.5, -0.5, 0.9, 0.99\n",
    "\n",
    "T = 100\n",
    "rho = -0.5\n",
    "y = np.zeros(T)\n",
    "\n",
    "y[0] = np.random.normal(0, 1)\n",
    "\n",
    "for t in range(1, T):\n",
    "    y[t] = rho * y[t-1] + np.random.normal(0, 1)\n",
    "    \n",
    "# Confirm vector length\n",
    "#y.shape\n",
    "\n",
    "r = rho\n",
    "plt.figure(figsize = (8, 6))\n",
    "plt.plot(y, 'b')\n",
    "#plt.ylim(-4, 4)\n",
    "plt.title(r'Autoregressive Process, $\\rho$ = %r' %(r), fontsize=20)\n",
    "plt.axhline(0, color='k', ls='--', lw=2)"
   ]
  },
  {
   "cell_type": "code",
   "execution_count": null,
   "metadata": {
    "collapsed": false
   },
   "outputs": [],
   "source": [
    "# The stationarity of the AR(1) can be derived mathematically, which we will do.\n",
    "# Let's first explore this property through MC simulation.\n",
    "# A brief digression on performance and the use of Numba, which might be helpful here.\n",
    "\n",
    "import numba as nb\n",
    "def Ergo(rho, T):\n",
    "    \n",
    "    np.random.seed(2015)\n",
    "    mean = np.zeros((len(rho),), dtype=np.float)\n",
    "    var = np.zeros((len(rho),), dtype=np.float)\n",
    "           \n",
    "    for i in range(len(rho)):\n",
    "        y = np.zeros(T)\n",
    "        y[0] = np.random.normal(0, 1)\n",
    "        for t in range(1, T):\n",
    "            y[t] = rho[i] * y[t-1] + np.random.normal(0, 1)\n",
    "        \n",
    "        mean[i] = np.mean(y)\n",
    "        var[i] = np.var(y)\n",
    "    \n",
    "    return(mean, var)\n",
    "            \n",
    "T = 99999\n",
    "rho = np.arange(-0.99, 0.99, .05)\n",
    "\n",
    "Ergo_nb = nb.jit(Ergo)\n",
    "\n",
    "%time mean, var = Ergo_nb(rho, T)"
   ]
  },
  {
   "cell_type": "code",
   "execution_count": null,
   "metadata": {
    "collapsed": false
   },
   "outputs": [],
   "source": [
    "%time Ergo(rho, T)"
   ]
  },
  {
   "cell_type": "code",
   "execution_count": null,
   "metadata": {
    "collapsed": false
   },
   "outputs": [],
   "source": [
    "# Put this into context.\n",
    "\n",
    "plt.figure(figsize = (8, 6))\n",
    "plt.plot(rho, mean, 'b')\n",
    "plt.title(r'Average of AR(1) Process Over Possible $\\rho$ Values', fontsize=20)\n",
    "plt.ylim(-.1, .1)\n",
    "plt.axhline(0, color='r', ls='--')"
   ]
  },
  {
   "cell_type": "code",
   "execution_count": null,
   "metadata": {
    "collapsed": false
   },
   "outputs": [],
   "source": [
    "plt.figure(figsize = (8, 6))\n",
    "plt.plot(rho, var, 'b')\n",
    "plt.title(r'Variance of AR(1) Process Over Possible $\\rho$ Values', fontsize=20)\n",
    "plt.axhline(1, color='r', ls='--')\n",
    "\n",
    "# Note that the red line is 1."
   ]
  },
  {
   "cell_type": "markdown",
   "metadata": {},
   "source": [
    "Therefore, we can see through MC simulation that the AR(1) process is stationary as long as $|\\rho|<1$.  But let's make the point rigorous.\n",
    "\n",
    "Eq.0: $y_t = \\rho y_{t-1} + \\epsilon_t$.\n",
    "\n",
    "Eq.1: $y_{t-1} = \\rho y_{t-2} + \\epsilon_{t-1}$.\n",
    "\n",
    "Eq.2: $y_{t-2} = \\rho y_{t-3} + \\epsilon_{t-2}$.\n",
    "\n",
    "Substitute Eq.2 into Eq.1 to obtain $y_{t-1} = \\rho^2 y_{t-3} + \\rho \\epsilon_{t-2} + \\epsilon_{t-1}$ which is substituted into Eq.0 to obtain:\n",
    "\n",
    "$y_{t} = \\rho^3 y_{t-3} + \\rho^2 \\epsilon_{t-2} + \\rho \\epsilon_{t-1} + \\epsilon_{t}$\n",
    "\n",
    "This is the process of recursion, and the equation hints at a solution.\n",
    "\n",
    "$\\displaystyle {y_{t} = \\rho^k y_{t-k} + \\sum_{j=1}^k \\rho^{j-1} \\epsilon_{t-j+1}}$\n",
    "\n",
    "The first term to the right of $=$ is where $y_t$ was $k$ periods ago, while the second is the sum of white noise terms.  Suppose we could go backward \"infinitely\" far?\n",
    "\n",
    "$\\displaystyle {\\lim_{k \\rightarrow \\infty} \\left( \\rho^k y_{t-k} + \\sum_{j=1}^k \\rho^{j-1} \\epsilon_{t-j+1}\\right)}$\n",
    "\n",
    "The first term vanishes because $|\\rho|<1$.  Therefore,\n",
    "\n",
    "$\\displaystyle {y_t = \\sum_{j=1}^\\infty \\rho^{j-1} \\epsilon_{t-j+1}}$.\n",
    "\n",
    "Therefore, $y_t$ is the infinite sum of white noise innovations that geometrically decay the further back in time an innovation occurred.  As long as the $\\epsilon$'s are stationary (which we've assumed), $y_t$ is stationary.\n",
    "\n",
    "This representation also makes calculating the mean and variance much easier.\n",
    "\n",
    "$\\displaystyle {E(y_t) = E\\left(\\sum_{j=1}^\\infty \\rho^{j-1} \\epsilon_{t-j+1}\\right) = \\sum_{j=1}^\\infty \\rho^{2(j-1)} E(\\epsilon_{t-j+1}) = 0}$\n",
    "\n",
    "$\\displaystyle {Var(y_t) = Var\\left(\\sum_{j=1}^\\infty \\rho^{j-1} \\epsilon_{t-j+1}\\right) = \\sum_{j=1}^\\infty \\rho^{2(j-1)} Var(\\epsilon_{t-j+1}) = \\sum_{j=1}^\\infty \\rho^{2(j-1)} = \\frac{1}{1-\\rho^2}}$\n",
    "\n",
    "These results can be seen in the graphs above, where the red horizontal lines are 0 and 1, respectively.  (Note the value of doing this both with MC simulation as well as with mathematics.)\n",
    "\n",
    "Now, consider the \"autocovariance\" function, which is the covariance between time-ajacent realizations.  Because the process is mean zero, the autocovariance is simply the expectation of the product:\n",
    "\n",
    "$\\displaystyle {Cov(y_t, y_{t-1})= E(y_t \\cdot y_{t-1}) = E\\left(\\sum_{j=1}^\\infty \\rho^{j-1} \\epsilon_{t-j+1} \\cdot \\sum_{j=1}^\\infty \\rho^{j-1} \\epsilon_{t-j}\\right)}$\n",
    "\n",
    "This looks like a mess, but it is not.  Remember, the $\\epsilon$'s are independent across time, so whenever their subscripts don't match, the expected product is zero.  We pick up a $\\rho$ for the one time period when $\\epsilon$ is the same, and we still have the infinite sum of $\\rho^2$.  Therefore, \n",
    "\n",
    "$\\displaystyle {Cov(y_t, y_{t-1})= E(y_t \\cdot y_{t-1}) = \\frac{\\rho}{1-\\rho^2}}$\n",
    "\n",
    "Indeed, for any $k$,\n",
    "\n",
    "$\\displaystyle {Cov(y_t, y_{t-k})= \\frac{\\rho^k}{1-\\rho^2}}$\n",
    "\n",
    "More importantly, since correlation is defined as covariance divided by variance, for any AR(1) process, $y_t$, the \"autocorrelation\" function is simply:\n",
    "\n",
    "$\\displaystyle {Corr(y_t, y_{t-k})= \\rho^k}$\n",
    "\n",
    "Here, autocorrelation simply means \"correlated with itself through time\".\n",
    "\n",
    "Therefore, in summary, the AR(1) process, $y_t$, has the following characteristics:\n",
    "\n",
    "1. Zero mean.\n",
    "2. Finite variance.\n",
    "3. Autocorrelation function that decays geometrically, $\\rho^k$, over $k$ periods.  Note that for $k=0$, correlation is 1 (as it should be)."
   ]
  },
  {
   "cell_type": "code",
   "execution_count": null,
   "metadata": {
    "collapsed": false
   },
   "outputs": [],
   "source": [
    "# Let's graph the autocorrelation function using the times series functions \n",
    "# in StatsModels, which uses Panda's dataframes.\n",
    "# We generate the AR(1) using numpy arrays, so we have to convert them.\n",
    "# Let's toggle through a few different values of rho.\n",
    "\n",
    "T = 9999\n",
    "rho = -0.5\n",
    "y = np.zeros(T+1)\n",
    "\n",
    "y[0] = np.random.normal(0, 1)\n",
    "\n",
    "for t in range(1, T):\n",
    "    y[t] = rho * y[t-1] + np.random.normal(0, 1)\n",
    "\n",
    "y = pd.DataFrame(y)\n",
    "\n",
    "fig = plt.figure(figsize=(8, 6))\n",
    "fig = sma.graphics.tsa.plot_acf(y.values.squeeze(), lags=10)"
   ]
  },
  {
   "cell_type": "markdown",
   "metadata": {},
   "source": [
    "What is the utility of the autocorrelation graph?  It is a direct statistical estimate of $\\rho$ if we ran a linear model that regressed $y_t$ on $y_{t-1}$.  In both Python and R, confidence bounds are placed on the graph (in blue in this case).  "
   ]
  },
  {
   "cell_type": "markdown",
   "metadata": {},
   "source": [
    "## The Linkage Between AR(1) and Markov Processes: $\\rho = 1$"
   ]
  },
  {
   "cell_type": "code",
   "execution_count": null,
   "metadata": {
    "collapsed": false
   },
   "outputs": [],
   "source": [
    "T = 1000\n",
    "rho = 1.0\n",
    "y = np.zeros(T)\n",
    "\n",
    "y[0] = np.random.normal(0, 1)\n",
    "\n",
    "for t in range(1, T):\n",
    "    y[t] = rho * y[t-1] + np.random.normal(0, 1)\n",
    "\n",
    "r = rho\n",
    "plt.figure(figsize = (8, 6))\n",
    "plt.plot(y, 'b')\n",
    "plt.title(r'Autoregressive Process, $\\rho$ = %r' %(r), fontsize=20)\n",
    "print(\"Variance of the process is\", np.var(y))\n",
    "# Note that variance is finite in finite sample."
   ]
  },
  {
   "cell_type": "markdown",
   "metadata": {},
   "source": [
    "When $\\rho \\rightarrow 1$, the AR(1) model is no longer a stationary process, as the variance becomes infinite.  \n",
    "\n",
    "Look at the AR(1) equation when $\\rho=1$:\n",
    "\n",
    "$y_t = y_{t-1} + \\epsilon_t$\n",
    "\n",
    "Basically, this equation says that today's realization is yesterday's realization plus a white noise innovation.\n",
    "\n",
    "Technically, the process now becomes the infinite sum of prior white noise innovations, which does not have finite variance.\n",
    "\n",
    "$\\displaystyle {y_t = \\sum_{i=0}^\\infty \\epsilon_{t-i}}$\n",
    "\n",
    "$\\displaystyle {Var(y_t) = Var\\left(\\sum_{i=0}^\\infty \\epsilon_{t-i}\\right) = \\sum_{i=0}^\\infty Var(\\epsilon_{t-i}) = \\sum_{i=0}^\\infty 1}$, which does not converge.\n",
    "\n",
    "Such processes are said to be \"integrated of order 1\" or $I(1)$.  "
   ]
  },
  {
   "cell_type": "code",
   "execution_count": null,
   "metadata": {
    "collapsed": false
   },
   "outputs": [],
   "source": [
    "# Cumulative sum of random innovations.\n",
    "# Basically, it is just rho = 1 in the AR(1) model.\n",
    "# First examine 100 steps and then the entire process.\n",
    "\n",
    "nsteps = 1000\n",
    "draws = np.random.randint(0, 2, nsteps)\n",
    "steps = np.where(draws > 0, 1, -1)\n",
    "walk = steps.cumsum()\n",
    "plt.figure(figsize = (8, 6))\n",
    "plt.plot(walk[0:99], 'b')\n",
    "plt.title('Cumulative Random Sum', fontsize=20)"
   ]
  },
  {
   "cell_type": "code",
   "execution_count": null,
   "metadata": {
    "collapsed": false
   },
   "outputs": [],
   "source": [
    "# Which is basically just the Markov random walk.\n",
    "# First examine 100 steps and then the entire process.\n",
    "\n",
    "pos = 0  \n",
    "walk = [pos] \n",
    "nsteps = 1000 \n",
    "for i in range(nsteps):\n",
    "    step = 1 if np.random.randint(0, 2) else -1 \n",
    "    pos += step\n",
    "    walk.append(pos)\n",
    "\n",
    "plt.figure(figsize = (8, 6))\n",
    "plt.plot(walk[0:99], 'b')\n",
    "plt.title('Random Walk', fontsize=20)"
   ]
  },
  {
   "cell_type": "markdown",
   "metadata": {},
   "source": [
    "Therefore, the Markov process and the AR(1) model are intimately related, namely when $\\rho = 1$, the AR(1) process is a \"unit root\" or an $I(1)$ process, which is the same as a random walk via a cumulative random sum."
   ]
  },
  {
   "cell_type": "markdown",
   "metadata": {},
   "source": [
    "### AR(1) Lab\n",
    "\n",
    "Take the CAPM code you used for Homework 2 and read in five years of stock price data for the company you used for estimating the CAPM in that Homework.  Calculate the daily returns in the usual manner.  Generate an autocorrelation graph for the daily returns.  Are your daily returns autocorrelated?  (R users see the acf() command, http://www.inside-r.org/r-doc/stats/acf, which is easy to use).  Remember to drop missing observations.\n",
    "\n",
    "Now generate a measure that is the square of daily returns, $r_t^2$, a value that is non-negative.  Next, generate a measure that is the square root of the square of daily returns, which is also non-negative.  This is typically thought of as measure of the volatility of returns.  Generate an autocorrelation graph for volatility.  Is volatility autocorrelated?  "
   ]
  },
  {
   "cell_type": "markdown",
   "metadata": {},
   "source": [
    "## Moving Average Processes of Order 1: MA(1)\n",
    "\n",
    "There is another standard time series process, called the Moving Average of Order 1, or MA(1), process.  \n",
    "\n",
    "$y_t = \\epsilon_t + \\theta \\epsilon_{t-1}$\n",
    "\n",
    "That is, the process is a weighted sum of prior white noise innovations.  Again, we can build this process from the ground up."
   ]
  },
  {
   "cell_type": "code",
   "execution_count": null,
   "metadata": {
    "collapsed": false
   },
   "outputs": [],
   "source": [
    "T = 100\n",
    "theta = 1.1\n",
    "y = np.zeros(T)\n",
    "e = np.zeros(T)\n",
    "\n",
    "e[0] = np.random.normal(0, 1)\n",
    "y[0] = e[0]\n",
    "\n",
    "for t in range(1, T):\n",
    "    e[t] = np.random.normal(0, 1)\n",
    "    y[t] = e[t] + theta * e[t-1] \n",
    "    \n",
    "t = theta\n",
    "plt.figure(figsize = (8, 6))\n",
    "plt.plot(y, 'b')\n",
    "#plt.ylim(-4, 4)\n",
    "plt.title(r'Moving Average Process, $\\theta$ = %r' %(t), fontsize=20)\n",
    "plt.axhline(0, color='k', ls='--', lw=2)"
   ]
  },
  {
   "cell_type": "markdown",
   "metadata": {},
   "source": [
    "## ARMA(1, 1)\n",
    "\n",
    "MA(1) is not that interesting.  It can, however, be combined with the AR(1) process to give rise to a model with very rich time series features.  Again, we will build from the ground up."
   ]
  },
  {
   "cell_type": "code",
   "execution_count": null,
   "metadata": {
    "collapsed": false
   },
   "outputs": [],
   "source": [
    "T = 100\n",
    "theta = 0.5\n",
    "rho = 0.5\n",
    "y = np.zeros(T)\n",
    "e = np.zeros(T)\n",
    "\n",
    "e[0] = np.random.normal(0, 1)\n",
    "y[0] = e[0]\n",
    "\n",
    "for t in range(1, T):\n",
    "    e[t] = np.random.normal(0, 1)\n",
    "    y[t] = rho * y[t-1] + e[t] + theta * e[t-1] \n",
    "    \n",
    "r = rho, theta\n",
    "plt.figure(figsize = (8, 6))\n",
    "plt.plot(y, 'b')\n",
    "#plt.ylim(-4, 4)\n",
    "plt.title(r'ARMA(1,1), $\\rho$ = %r and $\\theta$ = %r' %(r), fontsize=20)\n",
    "plt.axhline(0, color='k', ls='--', lw=2)"
   ]
  },
  {
   "cell_type": "markdown",
   "metadata": {},
   "source": [
    "### Estimating an ARMA(1, 1) Statistically"
   ]
  },
  {
   "cell_type": "code",
   "execution_count": null,
   "metadata": {
    "collapsed": false
   },
   "outputs": [],
   "source": [
    "# Stats models has an ARMA estimator.  The AR component is simple: just linear regression.\n",
    "# The MA component, however, requires the use of maximum likelihood estimation.\n",
    "# Always have a back-up plan.\n",
    "\n",
    "aapl_all = Quandl.get(\"YAHOO/AAPL\", trim_start=\"2010-1-1\", trim_end=\"2015-1-1\")\n",
    "aapl = aapl_all['Adjusted Close']\n",
    "aapl_returns = np.log(aapl / aapl.shift(1))\n",
    "aapl_returns = aapl_returns.dropna()\n",
    "aapl_returns = pd.DataFrame(aapl_returns)\n",
    "\n",
    "arma = sma.tsa.ARMA(aapl_returns, order=(1,1)).fit()\n",
    "print(arma.summary())"
   ]
  },
  {
   "cell_type": "code",
   "execution_count": null,
   "metadata": {
    "collapsed": false
   },
   "outputs": [],
   "source": [
    "vol = np.sqrt(aapl_returns ** 2)\n",
    "vol = pd.DataFrame(vol)\n",
    "\n",
    "arma = sma.tsa.ARMA(vol, order=(1,1)).fit()\n",
    "print(arma.summary())"
   ]
  },
  {
   "cell_type": "code",
   "execution_count": null,
   "metadata": {
    "collapsed": true
   },
   "outputs": [],
   "source": []
  },
  {
   "cell_type": "markdown",
   "metadata": {},
   "source": [
    "### Isolating Cycles from Trends in Time Series Data\n",
    "\n",
    "Occasionally, we do not need to do much to time series data than to disaggregate them into two components, a systematic trend and a noisy cycle.  A typical example is seasonality: during particular periods of time $every$ year, there is an increase in a time series that occurs on a regular cycle (such as, the sales of goods in the U.S. around the winter holidays).\n",
    "\n",
    "A popular algorithm to detrend data is the Hodrick-Prescott (HP) filter.  Basically, the filter disaggregates a time series, $y_t$, into its trend component and its cyclical component.  In some cases, Our interest may lie in examining the trend rather than the noisy cycle.  \n",
    "\n",
    "(R users, see the mFilter library: https://cran.r-project.org/web/packages/mFilter/mFilter.pdf)\n",
    "\n",
    "Start with a time series, $y_t$, of size, $t=1,...,T$.  The Hodrick-Prescott filter disaggregates $y_t$ into a trend component, $\\tau_t$, and a cyclical component, $\\zeta_t$, such that $y_t = \\tau_t + \\gamma_t$.\n",
    "\n",
    "The components are determined by minimizing the following with respect to $\\tau$:\n",
    "\n",
    "${\\displaystyle \\sum_{t = 1}^T {(y_t - \\tau _t )^2 }  + \\lambda \\sum_{t = 2}^{T - 1} {[(\\tau_{t+1}  - \\tau_t) - (\\tau_t  - \\tau_{t - 1} )]^2 }}$\n",
    "\n",
    "The first term is the now-familiar squared error (or squared deviation), which measures deviations from the cyclical component, $\\gamma_t$.  We seek to minimize this with respect to $\\tau$, which is just our predictor.\n",
    "\n",
    "The second term arises from the fact that this algorithm uses constrained optimization (minimization, in this case), where the constraint is captured in the term associated with $\\lambda$.  Basically, $(\\tau_{t+1} - \\tau_t)$ is the rate of change in the trend at $t+1$, while $(\\tau_{t} - \\tau_{t-1})$ is the rate of change in the trend at $t$.  The constraint imposed on the minimization problem penalizes large variations in the growth rates of the trend.\n",
    "\n",
    "Rule of thumb: $\\lambda = 1600$ for quarterly data (which is considered a baseline).  In practice, we adjust $\\lambda$ in the following manner (see http://discovery.ucl.ac.uk/18641/1/18641.pdf):\n",
    "\n",
    "1. $\\lambda = 6.25$ for annual data.\n",
    "2. $\\lambda = 129600$ for monthly data.\n",
    "3. $\\lambda = 104976000000$ for daily data.\n"
   ]
  },
  {
   "cell_type": "code",
   "execution_count": 6,
   "metadata": {
    "collapsed": false
   },
   "outputs": [
    {
     "name": "stdout",
     "output_type": "stream",
     "text": [
      "            Value\n",
      "Year             \n",
      "1929-12-31   8669\n",
      "1930-12-31   7847\n",
      "1931-12-31   7288\n",
      "1932-12-31   6308\n",
      "1933-12-31   6192\n",
      "1934-12-31   6817\n",
      "1935-12-31   7373\n",
      "1936-12-31   8273\n",
      "1937-12-31   8643\n",
      "1938-12-31   8292\n"
     ]
    }
   ],
   "source": [
    "# Let's look at annual US output per person.\n",
    "# First line reads in data from Quandl.\n",
    "# Second line prints out the first five records.\n",
    "# Third line invokes Statsmodels HP filter, creating two new series, cycle and trend.\n",
    "# Note that these are annual data, so we set lambda = 6.25\n",
    "\n",
    "gdp_pc = Quandl.get(\"MWORTH/0_5\", trim_start=\"1929-1-1\", trim_end=\"2015-10-1\")\n",
    "\n",
    "print(gdp_pc.head(10))\n",
    "\n",
    "cycle, trend = sma.tsa.filters.hpfilter(gdp_pc, lamb = 1600)"
   ]
  },
  {
   "cell_type": "code",
   "execution_count": 7,
   "metadata": {
    "collapsed": false
   },
   "outputs": [
    {
     "data": {
      "text/plain": [
       "<matplotlib.text.Text at 0xe98b1f0>"
      ]
     },
     "execution_count": 7,
     "metadata": {},
     "output_type": "execute_result"
    },
    {
     "data": {
      "text/plain": [
       "<matplotlib.figure.Figure at 0xe78de70>"
      ]
     },
     "metadata": {},
     "output_type": "display_data"
    },
    {
     "data": {
      "image/png": "[encoded data removed]",
      "text/plain": [
       "<matplotlib.figure.Figure at 0x24ce730>"
      ]
     },
     "metadata": {},
     "output_type": "display_data"
    }
   ],
   "source": [
    "# Here is a graph of the data.\n",
    "\n",
    "plt.figure(figsize = (8,6))\n",
    "gdp_pc.plot(color='blue')\n",
    "plt.title('U.S. Real Output per Person (1929 - Present)', fontsize=20)\n",
    "plt.ylabel('$', fontsize=16)"
   ]
  },
  {
   "cell_type": "code",
   "execution_count": 8,
   "metadata": {
    "collapsed": false
   },
   "outputs": [
    {
     "data": {
      "text/plain": [
       "<matplotlib.text.Text at 0xe50c4b0>"
      ]
     },
     "execution_count": 8,
     "metadata": {},
     "output_type": "execute_result"
    },
    {
     "data": {
      "text/plain": [
       "<matplotlib.figure.Figure at 0xe82c1b0>"
      ]
     },
     "metadata": {},
     "output_type": "display_data"
    },
    {
     "data": {
      "image/png": "[encoded data removed]",
      "text/plain": [
       "<matplotlib.figure.Figure at 0xe82cef0>"
      ]
     },
     "metadata": {},
     "output_type": "display_data"
    }
   ],
   "source": [
    "# Cyclical component\n",
    "\n",
    "plt.figure(figsize = (8,6))\n",
    "cycle.plot(color='blue')\n",
    "plt.title('Cyclical Component', fontsize=20)\n",
    "plt.axhline(0, color='r', ls='--', lw=2)\n",
    "plt.ylabel('$', fontsize=16)"
   ]
  },
  {
   "cell_type": "code",
   "execution_count": 9,
   "metadata": {
    "collapsed": false
   },
   "outputs": [
    {
     "data": {
      "text/plain": [
       "<matplotlib.text.Text at 0x24ce870>"
      ]
     },
     "execution_count": 9,
     "metadata": {},
     "output_type": "execute_result"
    },
    {
     "data": {
      "text/plain": [
       "<matplotlib.figure.Figure at 0xebf62f0>"
      ]
     },
     "metadata": {},
     "output_type": "display_data"
    },
    {
     "data": {
      "image/png": "[encoded data removed]",
      "text/plain": [
       "<matplotlib.figure.Figure at 0xea1a9f0>"
      ]
     },
     "metadata": {},
     "output_type": "display_data"
    }
   ],
   "source": [
    "# Trend component.\n",
    "\n",
    "plt.figure(figsize = (8,6))\n",
    "trend.plot(color='blue')\n",
    "plt.title('Trend Component', fontsize=20)\n",
    "plt.ylabel('$', fontsize=16)"
   ]
  },
  {
   "cell_type": "code",
   "execution_count": 10,
   "metadata": {
    "collapsed": false
   },
   "outputs": [],
   "source": [
    "# Another example: Crime rates (robberies) in the US from the Uniform Crime Reports \n",
    "# of the Federal Bureau of Investigation, U.S. Department of the Treasury.\n",
    "# Easily accessed through Quandl.\n",
    "\n",
    "crime = Quandl.get(\"FBI_UCR/USCRIME_TYPE_ROBBERIES\")\n",
    "pop = Quandl.get(\"MWORTH/0_3\", trim_start=\"1960-1-1\", trim_end=\"2011-1-1\")"
   ]
  },
  {
   "cell_type": "code",
   "execution_count": 11,
   "metadata": {
    "collapsed": false
   },
   "outputs": [
    {
     "name": "stdout",
     "output_type": "stream",
     "text": [
      "             Value\n",
      "Year              \n",
      "1960-12-31  180760\n",
      "1961-12-31  183742\n",
      "1962-12-31  186590\n",
      "1963-12-31  189300\n",
      "1964-12-31  191927\n",
      "             Value\n",
      "Year              \n",
      "2006-12-31  298818\n",
      "2007-12-31  301696\n",
      "2008-12-31  304543\n",
      "2009-12-31  307240\n",
      "2010-12-31  309808\n"
     ]
    }
   ],
   "source": [
    "print(pop.head())\n",
    "print(pop.tail())"
   ]
  },
  {
   "cell_type": "code",
   "execution_count": 12,
   "metadata": {
    "collapsed": false
   },
   "outputs": [
    {
     "name": "stdout",
     "output_type": "stream",
     "text": [
      "Year\n",
      "1960-12-31    107840\n",
      "1961-12-31    106670\n",
      "1962-12-31    110860\n",
      "1963-12-31    116470\n",
      "1964-12-31    130390\n",
      "Name: United States, dtype: float64\n",
      "Year\n",
      "2006-12-31    447403\n",
      "2007-12-31    445125\n",
      "2008-12-31    443574\n",
      "2009-12-31    408742\n",
      "2010-12-31    367832\n",
      "Name: United States, dtype: float64\n"
     ]
    }
   ],
   "source": [
    "crime = crime['United States'].dropna()\n",
    "print(crime.head())\n",
    "print(crime.tail())"
   ]
  },
  {
   "cell_type": "code",
   "execution_count": 13,
   "metadata": {
    "collapsed": false
   },
   "outputs": [
    {
     "name": "stdout",
     "output_type": "stream",
     "text": [
      "               Value\n",
      "Year                \n",
      "1960-12-31  0.596592\n",
      "1961-12-31  0.580542\n",
      "1962-12-31  0.594137\n",
      "1963-12-31  0.615267\n",
      "1964-12-31  0.679373\n"
     ]
    }
   ],
   "source": [
    "rate = crime / pop\n",
    "print(rate.head())"
   ]
  },
  {
   "cell_type": "code",
   "execution_count": 14,
   "metadata": {
    "collapsed": false
   },
   "outputs": [
    {
     "data": {
      "text/plain": [
       "<matplotlib.text.Text at 0xe502ff0>"
      ]
     },
     "execution_count": 14,
     "metadata": {},
     "output_type": "execute_result"
    },
    {
     "data": {
      "text/plain": [
       "<matplotlib.figure.Figure at 0xe82cd50>"
      ]
     },
     "metadata": {},
     "output_type": "display_data"
    },
    {
     "data": {
      "image/png": "[encoded data removed]",
      "text/plain": [
       "<matplotlib.figure.Figure at 0xee0d810>"
      ]
     },
     "metadata": {},
     "output_type": "display_data"
    }
   ],
   "source": [
    "plt.figure(figsize = (8,6))\n",
    "rate.plot(color='blue')\n",
    "plt.title('U.S. Robbery Rate (1960 - 2010)', fontsize=20)\n",
    "plt.ylabel('Rate per 100,000', fontsize=16)"
   ]
  },
  {
   "cell_type": "code",
   "execution_count": 15,
   "metadata": {
    "collapsed": true
   },
   "outputs": [],
   "source": [
    "cycle, trend = sma.tsa.filters.hpfilter(rate, lamb = 6.25)"
   ]
  },
  {
   "cell_type": "code",
   "execution_count": 16,
   "metadata": {
    "collapsed": false
   },
   "outputs": [
    {
     "data": {
      "text/plain": [
       "<matplotlib.text.Text at 0xee0d630>"
      ]
     },
     "execution_count": 16,
     "metadata": {},
     "output_type": "execute_result"
    },
    {
     "data": {
      "text/plain": [
       "<matplotlib.figure.Figure at 0xeeeb430>"
      ]
     },
     "metadata": {},
     "output_type": "display_data"
    },
    {
     "data": {
      "image/png": "[encoded data removed]",
      "text/plain": [
       "<matplotlib.figure.Figure at 0xee9fb30>"
      ]
     },
     "metadata": {},
     "output_type": "display_data"
    }
   ],
   "source": [
    "plt.figure(figsize = (8,6))\n",
    "trend.plot(color='blue')\n",
    "plt.title('Trend in Robbery Rate', fontsize=20)\n",
    "plt.ylabel('Rate per 100,000', fontsize=16)"
   ]
  },
  {
   "cell_type": "code",
   "execution_count": 17,
   "metadata": {
    "collapsed": false
   },
   "outputs": [
    {
     "data": {
      "text/plain": [
       "<matplotlib.text.Text at 0xeefe690>"
      ]
     },
     "execution_count": 17,
     "metadata": {},
     "output_type": "execute_result"
    },
    {
     "data": {
      "text/plain": [
       "<matplotlib.figure.Figure at 0xef1fcd0>"
      ]
     },
     "metadata": {},
     "output_type": "display_data"
    },
    {
     "data": {
      "image/png": "[encoded data removed]",
      "text/plain": [
       "<matplotlib.figure.Figure at 0xe8084f0>"
      ]
     },
     "metadata": {},
     "output_type": "display_data"
    }
   ],
   "source": [
    "plt.figure(figsize = (8,6))\n",
    "cycle.plot(color='blue')\n",
    "plt.title('Cycle in Robbert Rate', fontsize=20)\n",
    "plt.ylabel('Rate per 100,000', fontsize=16)"
   ]
  },
  {
   "cell_type": "markdown",
   "metadata": {},
   "source": [
    "### End Thought"
   ]
  },
  {
   "cell_type": "markdown",
   "metadata": {},
   "source": [
    "\"There’s a further twist: once a learned program is deployed, the bad guys change their behavior to defeat it. This contrasts with the natural world, which always works the same way. The solution is to marry machine learning with game theory... \"\n",
    "\n",
    "Pedro Domingos, The Master Algorithm."
   ]
  }
 ],
 "metadata": {
  "kernelspec": {
   "display_name": "Python 2",
   "language": "python",
   "name": "python2"
  },
  "language_info": {
   "codemirror_mode": {
    "name": "ipython",
    "version": 2
   },
   "file_extension": ".py",
   "mimetype": "text/x-python",
   "name": "python",
   "nbconvert_exporter": "python",
   "pygments_lexer": "ipython2",
   "version": "2.7.10"
  }
 },
 "nbformat": 4,
 "nbformat_minor": 0
}
