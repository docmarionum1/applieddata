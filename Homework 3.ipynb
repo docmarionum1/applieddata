{
 "cells": [
  {
   "cell_type": "markdown",
   "metadata": {},
   "source": [
    "# Homework 3"
   ]
  },
  {
   "cell_type": "markdown",
   "metadata": {},
   "source": [
    "1. Python users, use Python's pandas library to read in the Stata-formatted dataset used in class called \"SI Sales.dta\".  R users, use R's foreign library to read in the Stata-formatted dataset called \"SI Sales Old.dta\".  Replicate all of the regression results for this dataset that I presented in class.  \n",
    "\n",
    "2. There is an additional feature in this dataset called \"sales_year\", which captures the year the sale of a house in Staten Island occurred.  From this feature, generate a feature that is linear time trend.  (A linear time trend is a feature that takes on value \"1\" in the initial year and increments by \"1\" each subsequent year.  For example, if 2003 were \"1\", 2004 would be \"2\", 2005 would be \"3\", and so forth.)  Run a linear regression model that relates the sales price to unit size, land size, age, the Todt Hill indicator, and the linear time trend.  How would you interpret the estimated coefficient associated with the linear time trend?  What is the 95% confidence interval of your interpretation?  Based on your regression diagnostics, have you improved the fit of the house price sales data by including the linear time trend as an additional explanatory feature?  \n",
    "\n",
    "3. As noted in class, the unit size and land size features are measured in squared meters.  Suppose I ask you to re-express these features using the Imperial system of square feet rather than square meters, but I express a concern that the interpretation of the estimated coefficients, such as age, would be changed.  Without actually doing any statistical learning, what would you say to me about my concern?  Rerun the linear regression in 2. using the dwelling size and land size measured in square feet (rather than square meters).  What, if anything, has changed in your estimated coefficients?\n",
    "\n",
    "4. (Challenging question.  Feel free to work together to the extent that it assists you.)  Assume the following data generating process (DGP) governs a random sample of size 10,000: $y_i = \\beta_0 + \\beta_1 x_{1i} + \\beta_2 x_{2i} + \\epsilon_i$  for $\\epsilon_i \\sim N(0,1)$.  Further assume for this DGP that  $\\beta_0=\\beta_1=\\beta_2=1$.  (a) Suppose the following process governs your features: $x_{1i} \\sim N(0,1)$ and $x_{2i} \\sim N(0,1)$ are independent.  Using R or Python, calculate the correlation between features $x_{1i}$ and $x_{2i}$.  Mistakenly, you decide to estimate a linear regression that includes only the feature $x_{1i}$.  Using R or Python, simulate this DGP and run the mistaken linear regression that includes only feature $x_{1i}$.  What value do you obtain for the coefficient associated with with feature $x_{1i}$?  (b) Suppose instead that the following process governs your features: $x_{1i}=z_i+\\eta_i$ and $x_{2i}=-z_i+\\omega_i$, where $z_i \\sim N(0,1)$, $\\eta_i \\sim N(0,1)$, and $\\omega_i \\sim N(0,1)$ are independent.  Using R or Python, calculate the correlation between features $x_{1i}$ and $x_{2i}$.  Again, you mistakenly decide to estimate a linear regression that includes only the feature $x_{1i}$.  Using R or Python, simulate this DGP and run the mistaken linear regression that includes only feature $x_{1i}$.  What value do you obtain for the coefficient associated with with feature $x_{1i}$?  (c) Are there any conclusions you can draw from your results in (a) and (b)? \n",
    "\n",
    "4.  Spend time working on your proposal for the Foundations Project.\n",
    "\n",
    "For questions 1 through 4 above, submit code and results."
   ]
  },
  {
   "cell_type": "code",
   "execution_count": 1,
   "metadata": {
    "collapsed": false
   },
   "outputs": [
    {
     "name": "stdout",
     "output_type": "stream",
     "text": [
      "Populating the interactive namespace from numpy and matplotlib\n"
     ]
    }
   ],
   "source": [
    "%pylab inline\n",
    "import numpy as np\n",
    "import pandas as pd\n",
    "import statsmodels.api as sm\n",
    "import statsmodels.formula.api as smf"
   ]
  },
  {
   "cell_type": "code",
   "execution_count": 2,
   "metadata": {
    "collapsed": true
   },
   "outputs": [],
   "source": [
    "sales = pd.read_stata('SI Sales Old.dta')"
   ]
  },
  {
   "cell_type": "code",
   "execution_count": 15,
   "metadata": {
    "collapsed": true
   },
   "outputs": [],
   "source": [
    "def run_regression(data, formula):\n",
    "    mod = smf.ols(formula=formula, data=data).fit()\n",
    "    print(mod.summary())"
   ]
  },
  {
   "cell_type": "code",
   "execution_count": 16,
   "metadata": {
    "collapsed": false
   },
   "outputs": [
    {
     "name": "stdout",
     "output_type": "stream",
     "text": [
      "                            OLS Regression Results                            \n",
      "==============================================================================\n",
      "Dep. Variable:                  price   R-squared:                       0.302\n",
      "Model:                            OLS   Adj. R-squared:                  0.302\n",
      "Method:                 Least Squares   F-statistic:                 1.372e+04\n",
      "Date:                Wed, 30 Sep 2015   Prob (F-statistic):               0.00\n",
      "Time:                        19:17:48   Log-Likelihood:            -4.3166e+05\n",
      "No. Observations:               31680   AIC:                         8.633e+05\n",
      "Df Residuals:                   31678   BIC:                         8.633e+05\n",
      "Df Model:                           1                                         \n",
      "Covariance Type:            nonrobust                                         \n",
      "==============================================================================\n",
      "                 coef    std err          t      P>|t|      [95.0% Conf. Int.]\n",
      "------------------------------------------------------------------------------\n",
      "Intercept    1.35e+05   2542.335     53.118      0.000       1.3e+05   1.4e+05\n",
      "unit_size   1658.3706     14.159    117.121      0.000      1630.618  1686.124\n",
      "==============================================================================\n",
      "Omnibus:                    51914.230   Durbin-Watson:                   1.973\n",
      "Prob(Omnibus):                  0.000   Jarque-Bera (JB):        103733692.864\n",
      "Skew:                          10.534   Prob(JB):                         0.00\n",
      "Kurtosis:                     282.539   Cond. No.                         406.\n",
      "==============================================================================\n",
      "\n",
      "Warnings:\n",
      "[1] Standard Errors assume that the covariance matrix of the errors is correctly specified.\n",
      "                            OLS Regression Results                            \n",
      "==============================================================================\n",
      "Dep. Variable:                  price   R-squared:                       0.387\n",
      "Model:                            OLS   Adj. R-squared:                  0.387\n",
      "Method:                 Least Squares   F-statistic:                     9985.\n",
      "Date:                Wed, 30 Sep 2015   Prob (F-statistic):               0.00\n",
      "Time:                        19:17:48   Log-Likelihood:            -4.2961e+05\n",
      "No. Observations:               31680   AIC:                         8.592e+05\n",
      "Df Residuals:                   31677   BIC:                         8.593e+05\n",
      "Df Model:                           2                                         \n",
      "Covariance Type:            nonrobust                                         \n",
      "==============================================================================\n",
      "                 coef    std err          t      P>|t|      [95.0% Conf. Int.]\n",
      "------------------------------------------------------------------------------\n",
      "Intercept   1.179e+05   2397.598     49.177      0.000      1.13e+05  1.23e+05\n",
      "unit_size   1221.3016     14.833     82.339      0.000      1192.229  1250.374\n",
      "land_size    268.4246      4.064     66.053      0.000       260.459   276.390\n",
      "==============================================================================\n",
      "Omnibus:                    54911.523   Durbin-Watson:                   1.975\n",
      "Prob(Omnibus):                  0.000   Jarque-Bera (JB):        162331043.514\n",
      "Skew:                          11.765   Prob(JB):                         0.00\n",
      "Kurtosis:                     352.892   Cond. No.                     1.05e+03\n",
      "==============================================================================\n",
      "\n",
      "Warnings:\n",
      "[1] Standard Errors assume that the covariance matrix of the errors is correctly specified.\n",
      "[2] The condition number is large, 1.05e+03. This might indicate that there are\n",
      "strong multicollinearity or other numerical problems.\n",
      "                            OLS Regression Results                            \n",
      "==============================================================================\n",
      "Dep. Variable:                  price   R-squared:                       0.393\n",
      "Model:                            OLS   Adj. R-squared:                  0.393\n",
      "Method:                 Least Squares   F-statistic:                     6840.\n",
      "Date:                Wed, 30 Sep 2015   Prob (F-statistic):               0.00\n",
      "Time:                        19:17:48   Log-Likelihood:            -4.2945e+05\n",
      "No. Observations:               31680   AIC:                         8.589e+05\n",
      "Df Residuals:                   31676   BIC:                         8.589e+05\n",
      "Df Model:                           3                                         \n",
      "Covariance Type:            nonrobust                                         \n",
      "==============================================================================\n",
      "                 coef    std err          t      P>|t|      [95.0% Conf. Int.]\n",
      "------------------------------------------------------------------------------\n",
      "Intercept   1.496e+05   2940.848     50.854      0.000      1.44e+05  1.55e+05\n",
      "unit_size   1110.9812     15.927     69.755      0.000      1079.764  1142.198\n",
      "land_size    302.4288      4.445     68.038      0.000       293.716   311.141\n",
      "age         -696.5604     37.871    -18.393      0.000      -770.789  -622.332\n",
      "==============================================================================\n",
      "Omnibus:                    55260.071   Durbin-Watson:                   1.977\n",
      "Prob(Omnibus):                  0.000   Jarque-Bera (JB):        168661973.654\n",
      "Skew:                          11.921   Prob(JB):                         0.00\n",
      "Kurtosis:                     359.659   Cond. No.                     1.30e+03\n",
      "==============================================================================\n",
      "\n",
      "Warnings:\n",
      "[1] Standard Errors assume that the covariance matrix of the errors is correctly specified.\n",
      "[2] The condition number is large, 1.3e+03. This might indicate that there are\n",
      "strong multicollinearity or other numerical problems.\n",
      "                            OLS Regression Results                            \n",
      "==============================================================================\n",
      "Dep. Variable:                  price   R-squared:                       0.406\n",
      "Model:                            OLS   Adj. R-squared:                  0.406\n",
      "Method:                 Least Squares   F-statistic:                     5421.\n",
      "Date:                Wed, 30 Sep 2015   Prob (F-statistic):               0.00\n",
      "Time:                        19:17:48   Log-Likelihood:            -4.2910e+05\n",
      "No. Observations:               31680   AIC:                         8.582e+05\n",
      "Df Residuals:                   31675   BIC:                         8.582e+05\n",
      "Df Model:                           4                                         \n",
      "Covariance Type:            nonrobust                                         \n",
      "==============================================================================\n",
      "                 coef    std err          t      P>|t|      [95.0% Conf. Int.]\n",
      "------------------------------------------------------------------------------\n",
      "Intercept   1.674e+05   2985.210     56.076      0.000      1.62e+05  1.73e+05\n",
      "unit_size   1033.9862     16.017     64.556      0.000      1002.592  1065.380\n",
      "land_size    275.1814      4.514     60.956      0.000       266.333   284.030\n",
      "age         -671.3910     37.469    -17.919      0.000      -744.831  -597.951\n",
      "todt        3.574e+05   1.35e+04     26.565      0.000      3.31e+05  3.84e+05\n",
      "==============================================================================\n",
      "Omnibus:                    55772.049   Durbin-Watson:                   1.978\n",
      "Prob(Omnibus):                  0.000   Jarque-Bera (JB):        183883239.453\n",
      "Skew:                          12.140   Prob(JB):                         0.00\n",
      "Kurtosis:                     375.446   Cond. No.                     6.00e+03\n",
      "==============================================================================\n",
      "\n",
      "Warnings:\n",
      "[1] Standard Errors assume that the covariance matrix of the errors is correctly specified.\n",
      "[2] The condition number is large,  6e+03. This might indicate that there are\n",
      "strong multicollinearity or other numerical problems.\n",
      "                            OLS Regression Results                            \n",
      "==============================================================================\n",
      "Dep. Variable:           priceper1000   R-squared:                       0.406\n",
      "Model:                            OLS   Adj. R-squared:                  0.406\n",
      "Method:                 Least Squares   F-statistic:                     5421.\n",
      "Date:                Wed, 30 Sep 2015   Prob (F-statistic):               0.00\n",
      "Time:                        19:17:48   Log-Likelihood:            -2.1026e+05\n",
      "No. Observations:               31680   AIC:                         4.205e+05\n",
      "Df Residuals:                   31675   BIC:                         4.206e+05\n",
      "Df Model:                           4                                         \n",
      "Covariance Type:            nonrobust                                         \n",
      "==============================================================================\n",
      "                 coef    std err          t      P>|t|      [95.0% Conf. Int.]\n",
      "------------------------------------------------------------------------------\n",
      "Intercept    167.3977      2.985     56.076      0.000       161.547   173.249\n",
      "unit_size      1.0340      0.016     64.556      0.000         1.003     1.065\n",
      "land_size      0.2752      0.005     60.956      0.000         0.266     0.284\n",
      "age           -0.6714      0.037    -17.919      0.000        -0.745    -0.598\n",
      "todt         357.4312     13.455     26.565      0.000       331.059   383.803\n",
      "==============================================================================\n",
      "Omnibus:                    55772.049   Durbin-Watson:                   1.978\n",
      "Prob(Omnibus):                  0.000   Jarque-Bera (JB):        183883239.453\n",
      "Skew:                          12.140   Prob(JB):                         0.00\n",
      "Kurtosis:                     375.446   Cond. No.                     6.00e+03\n",
      "==============================================================================\n",
      "\n",
      "Warnings:\n",
      "[1] Standard Errors assume that the covariance matrix of the errors is correctly specified.\n",
      "[2] The condition number is large,  6e+03. This might indicate that there are\n",
      "strong multicollinearity or other numerical problems.\n",
      "                            OLS Regression Results                            \n",
      "==============================================================================\n",
      "Dep. Variable:               logprice   R-squared:                       0.364\n",
      "Model:                            OLS   Adj. R-squared:                  0.364\n",
      "Method:                 Least Squares   F-statistic:                     4540.\n",
      "Date:                Wed, 30 Sep 2015   Prob (F-statistic):               0.00\n",
      "Time:                        19:17:48   Log-Likelihood:                -12511.\n",
      "No. Observations:               31680   AIC:                         2.503e+04\n",
      "Df Residuals:                   31675   BIC:                         2.507e+04\n",
      "Df Model:                           4                                         \n",
      "Covariance Type:            nonrobust                                         \n",
      "==============================================================================\n",
      "                 coef    std err          t      P>|t|      [95.0% Conf. Int.]\n",
      "------------------------------------------------------------------------------\n",
      "Intercept      9.7769      0.029    332.252      0.000         9.719     9.835\n",
      "logunit        0.3408      0.006     54.826      0.000         0.329     0.353\n",
      "logland        0.2630      0.004     69.769      0.000         0.256     0.270\n",
      "logage        -0.0476      0.002    -24.299      0.000        -0.051    -0.044\n",
      "todt           0.4426      0.025     17.777      0.000         0.394     0.491\n",
      "==============================================================================\n",
      "Omnibus:                    10612.162   Durbin-Watson:                   1.972\n",
      "Prob(Omnibus):                  0.000   Jarque-Bera (JB):            72190.466\n",
      "Skew:                          -1.442   Prob(JB):                         0.00\n",
      "Kurtosis:                       9.809   Cond. No.                         127.\n",
      "==============================================================================\n",
      "\n",
      "Warnings:\n",
      "[1] Standard Errors assume that the covariance matrix of the errors is correctly specified.\n"
     ]
    }
   ],
   "source": [
    "# Question 1\n",
    "# Set up additional variables\n",
    "sales['priceper1000'] = sales['price']/1000\n",
    "sales['logprice'] = np.log(sales['price'])\n",
    "sales['logunit'] = np.log(sales['unit_size'])\n",
    "sales['logland'] = np.log(sales['land_size'])\n",
    "sales['logage'] = np.log(sales['age']+1)\n",
    "\n",
    "# Regressions to run\n",
    "formulas = [\n",
    "    'price ~ unit_size', \n",
    "    'price ~ unit_size + land_size', \n",
    "    'price ~ unit_size + land_size + age', \n",
    "    'price ~ unit_size + land_size + age + todt',\n",
    "    'priceper1000 ~ unit_size + land_size + age + todt',\n",
    "    'logprice ~ logunit + logland + logage + todt'\n",
    "]\n",
    "\n",
    "for formula in formulas:\n",
    "    run_regression(sales, formula)"
   ]
  },
  {
   "cell_type": "code",
   "execution_count": 17,
   "metadata": {
    "collapsed": false
   },
   "outputs": [
    {
     "name": "stdout",
     "output_type": "stream",
     "text": [
      "                            OLS Regression Results                            \n",
      "==============================================================================\n",
      "Dep. Variable:                  price   R-squared:                       0.412\n",
      "Model:                            OLS   Adj. R-squared:                  0.412\n",
      "Method:                 Least Squares   F-statistic:                     4431.\n",
      "Date:                Wed, 30 Sep 2015   Prob (F-statistic):               0.00\n",
      "Time:                        19:18:31   Log-Likelihood:            -4.2896e+05\n",
      "No. Observations:               31680   AIC:                         8.579e+05\n",
      "Df Residuals:                   31674   BIC:                         8.580e+05\n",
      "Df Model:                           5                                         \n",
      "Covariance Type:            nonrobust                                         \n",
      "=====================================================================================\n",
      "                        coef    std err          t      P>|t|      [95.0% Conf. Int.]\n",
      "-------------------------------------------------------------------------------------\n",
      "Intercept          1.435e+05   3295.435     43.547      0.000      1.37e+05   1.5e+05\n",
      "unit_size          1025.3781     15.955     64.268      0.000       994.106  1056.650\n",
      "land_size           273.3928      4.496     60.810      0.000       264.581   282.205\n",
      "age                -741.6398     37.538    -19.757      0.000      -815.216  -668.064\n",
      "todt               3.598e+05   1.34e+04     26.859      0.000      3.34e+05  3.86e+05\n",
      "linear_time_trend  6325.6901    376.930     16.782      0.000      5586.892  7064.488\n",
      "==============================================================================\n",
      "Omnibus:                    56152.847   Durbin-Watson:                   1.979\n",
      "Prob(Omnibus):                  0.000   Jarque-Bera (JB):        191594744.043\n",
      "Skew:                          12.315   Prob(JB):                         0.00\n",
      "Kurtosis:                     383.185   Cond. No.                     6.00e+03\n",
      "==============================================================================\n",
      "\n",
      "Warnings:\n",
      "[1] Standard Errors assume that the covariance matrix of the errors is correctly specified.\n",
      "[2] The condition number is large,  6e+03. This might indicate that there are\n",
      "strong multicollinearity or other numerical problems.\n"
     ]
    }
   ],
   "source": [
    "# Question 2\n",
    "sales['linear_time_trend'] = sales['sales_year'] - sales['sales_year'].min() + 1\n",
    "run_regression(sales, 'price ~ unit_size + land_size + age + todt + linear_time_trend')"
   ]
  },
  {
   "cell_type": "markdown",
   "metadata": {},
   "source": [
    "The coefficient of the linear time trend is 6325, with a 95% confidence interval from 5586 to 7064.  This number can be intepreted as the average increase in price per year due to an overall inflation in the housing market for this dataset.  The fit has been improved slightly by including the linear time trend, seen by the .006 increase in the R-squared.  "
   ]
  },
  {
   "cell_type": "markdown",
   "metadata": {},
   "source": [
    "Question 3:\n",
    "There should be no change in any of the coefficents besides the sizes because square feet and square meters are linearly related.  And the coefficents for the sizes should change proportionately to the number of square feet in a square meter.\n",
    "\n",
    "I might also say \"C'mon Tim, stop your whining - this is _'Murica_ and we use feet here.\""
   ]
  },
  {
   "cell_type": "code",
   "execution_count": 19,
   "metadata": {
    "collapsed": false
   },
   "outputs": [
    {
     "name": "stdout",
     "output_type": "stream",
     "text": [
      "                            OLS Regression Results                            \n",
      "==============================================================================\n",
      "Dep. Variable:                  price   R-squared:                       0.412\n",
      "Model:                            OLS   Adj. R-squared:                  0.412\n",
      "Method:                 Least Squares   F-statistic:                     4431.\n",
      "Date:                Wed, 30 Sep 2015   Prob (F-statistic):               0.00\n",
      "Time:                        19:28:53   Log-Likelihood:            -4.2896e+05\n",
      "No. Observations:               31680   AIC:                         8.579e+05\n",
      "Df Residuals:                   31674   BIC:                         8.580e+05\n",
      "Df Model:                           5                                         \n",
      "Covariance Type:            nonrobust                                         \n",
      "=====================================================================================\n",
      "                        coef    std err          t      P>|t|      [95.0% Conf. Int.]\n",
      "-------------------------------------------------------------------------------------\n",
      "Intercept          1.435e+05   3295.435     43.547      0.000      1.37e+05   1.5e+05\n",
      "unit_size_ft         95.2599      1.482     64.268      0.000        92.355    98.165\n",
      "land_size_ft         25.3988      0.418     60.810      0.000        24.580    26.217\n",
      "age                -741.6398     37.538    -19.757      0.000      -815.216  -668.064\n",
      "todt               3.598e+05   1.34e+04     26.859      0.000      3.34e+05  3.86e+05\n",
      "linear_time_trend  6325.6901    376.930     16.782      0.000      5586.892  7064.488\n",
      "==============================================================================\n",
      "Omnibus:                    56152.847   Durbin-Watson:                   1.979\n",
      "Prob(Omnibus):                  0.000   Jarque-Bera (JB):        191594744.043\n",
      "Skew:                          12.315   Prob(JB):                         0.00\n",
      "Kurtosis:                     383.185   Cond. No.                     6.44e+04\n",
      "==============================================================================\n",
      "\n",
      "Warnings:\n",
      "[1] Standard Errors assume that the covariance matrix of the errors is correctly specified.\n",
      "[2] The condition number is large, 6.44e+04. This might indicate that there are\n",
      "strong multicollinearity or other numerical problems.\n"
     ]
    }
   ],
   "source": [
    "ftpm = 10.764\n",
    "sales['unit_size_ft'] = sales['unit_size']*ftpm\n",
    "sales['land_size_ft'] = sales['land_size']*ftpm\n",
    "run_regression(sales, 'price ~ unit_size_ft + land_size_ft + age + todt + linear_time_trend')"
   ]
  },
  {
   "cell_type": "code",
   "execution_count": 24,
   "metadata": {
    "collapsed": false
   },
   "outputs": [
    {
     "name": "stdout",
     "output_type": "stream",
     "text": [
      "           e        x1        x2         y\n",
      "e   1.000000  0.000421  0.019491  0.585974\n",
      "x1  0.000421  1.000000 -0.009133  0.570217\n",
      "x2  0.019491 -0.009133  1.000000  0.582071\n",
      "y   0.585974  0.570217  0.582071  1.000000\n",
      "                            OLS Regression Results                            \n",
      "==============================================================================\n",
      "Dep. Variable:                      y   R-squared:                       0.325\n",
      "Model:                            OLS   Adj. R-squared:                  0.325\n",
      "Method:                 Least Squares   F-statistic:                     4817.\n",
      "Date:                Wed, 30 Sep 2015   Prob (F-statistic):               0.00\n",
      "Time:                        19:48:27   Log-Likelihood:                -17779.\n",
      "No. Observations:               10000   AIC:                         3.556e+04\n",
      "Df Residuals:                    9998   BIC:                         3.558e+04\n",
      "Df Model:                           1                                         \n",
      "Covariance Type:            nonrobust                                         \n",
      "==============================================================================\n",
      "                 coef    std err          t      P>|t|      [95.0% Conf. Int.]\n",
      "------------------------------------------------------------------------------\n",
      "Intercept      0.9907      0.014     69.184      0.000         0.963     1.019\n",
      "x1             0.9913      0.014     69.405      0.000         0.963     1.019\n",
      "==============================================================================\n",
      "Omnibus:                        0.594   Durbin-Watson:                   1.992\n",
      "Prob(Omnibus):                  0.743   Jarque-Bera (JB):                0.557\n",
      "Skew:                          -0.008   Prob(JB):                        0.757\n",
      "Kurtosis:                       3.033   Cond. No.                         1.01\n",
      "==============================================================================\n",
      "\n",
      "Warnings:\n",
      "[1] Standard Errors assume that the covariance matrix of the errors is correctly specified.\n"
     ]
    }
   ],
   "source": [
    "# Question 4\n",
    "ss = 10000\n",
    "beta = 1\n",
    "data = pd.DataFrame({\n",
    "    'e': np.random.randn(ss),\n",
    "    'x1': np.random.randn(ss),\n",
    "    'x2': np.random.randn(ss),\n",
    "})\n",
    "data['y'] = beta + beta*data['x1'] + beta*data['x2'] + data['e']\n",
    "print data.corr()\n",
    "\n",
    "run_regression(data, 'y ~ x1')"
   ]
  },
  {
   "cell_type": "markdown",
   "metadata": {},
   "source": [
    "The coefficent is .9913, with a 95% confidence interval including the true value of 1."
   ]
  },
  {
   "cell_type": "code",
   "execution_count": 28,
   "metadata": {
    "collapsed": false
   },
   "outputs": [
    {
     "name": "stdout",
     "output_type": "stream",
     "text": [
      "           e        x1        x2         y\n",
      "e   1.000000  0.014828 -0.010294  0.577767\n",
      "x1  0.014828  1.000000 -0.497248  0.417628\n",
      "x2 -0.010294 -0.497248  1.000000  0.403428\n",
      "y   0.577767  0.417628  0.403428  1.000000\n",
      "                            OLS Regression Results                            \n",
      "==============================================================================\n",
      "Dep. Variable:                      y   R-squared:                       0.174\n",
      "Model:                            OLS   Adj. R-squared:                  0.174\n",
      "Method:                 Least Squares   F-statistic:                     2112.\n",
      "Date:                Wed, 30 Sep 2015   Prob (F-statistic):               0.00\n",
      "Time:                        19:53:06   Log-Likelihood:                -18785.\n",
      "No. Observations:               10000   AIC:                         3.757e+04\n",
      "Df Residuals:                    9998   BIC:                         3.759e+04\n",
      "Df Model:                           1                                         \n",
      "Covariance Type:            nonrobust                                         \n",
      "==============================================================================\n",
      "                 coef    std err          t      P>|t|      [95.0% Conf. Int.]\n",
      "------------------------------------------------------------------------------\n",
      "Intercept      0.9768      0.016     61.682      0.000         0.946     1.008\n",
      "x1             0.5131      0.011     45.958      0.000         0.491     0.535\n",
      "==============================================================================\n",
      "Omnibus:                        1.818   Durbin-Watson:                   2.008\n",
      "Prob(Omnibus):                  0.403   Jarque-Bera (JB):                1.846\n",
      "Skew:                          -0.026   Prob(JB):                        0.397\n",
      "Kurtosis:                       2.958   Cond. No.                         1.42\n",
      "==============================================================================\n",
      "\n",
      "Warnings:\n",
      "[1] Standard Errors assume that the covariance matrix of the errors is correctly specified.\n"
     ]
    }
   ],
   "source": [
    "z = np.random.randn(ss)\n",
    "data = pd.DataFrame({\n",
    "    'e': np.random.randn(ss),\n",
    "    'x1': z + np.random.randn(ss),\n",
    "    'x2': -z + np.random.randn(ss),\n",
    "})\n",
    "data['y'] = beta + beta*data['x1'] + beta*data['x2'] + data['e']\n",
    "print data.corr()\n",
    "\n",
    "run_regression(data, 'y ~ x1')"
   ]
  },
  {
   "cell_type": "markdown",
   "metadata": {},
   "source": [
    "This time the coefficent is only .5.  The difference this time is that x1 and x2 are correlated (about -.5 correlation) so leaving x2 out of the regression, OLS can't determine accurately the influence of just x1 on y."
   ]
  },
  {
   "cell_type": "code",
   "execution_count": null,
   "metadata": {
    "collapsed": true
   },
   "outputs": [],
   "source": []
  }
 ],
 "metadata": {
  "kernelspec": {
   "display_name": "Python 2",
   "language": "python",
   "name": "python2"
  },
  "language_info": {
   "codemirror_mode": {
    "name": "ipython",
    "version": 2
   },
   "file_extension": ".py",
   "mimetype": "text/x-python",
   "name": "python",
   "nbconvert_exporter": "python",
   "pygments_lexer": "ipython2",
   "version": "2.7.10"
  }
 },
 "nbformat": 4,
 "nbformat_minor": 0
}
