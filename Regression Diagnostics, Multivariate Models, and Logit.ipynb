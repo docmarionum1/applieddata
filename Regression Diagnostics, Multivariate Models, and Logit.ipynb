{
 "cells": [
  {
   "cell_type": "markdown",
   "metadata": {},
   "source": [
    "# Session 3"
   ]
  },
  {
   "cell_type": "markdown",
   "metadata": {},
   "source": [
    "# Regression Diagnostics"
   ]
  },
  {
   "cell_type": "code",
   "execution_count": 5,
   "metadata": {
    "collapsed": false
   },
   "outputs": [
    {
     "name": "stdout",
     "output_type": "stream",
     "text": [
      "Populating the interactive namespace from numpy and matplotlib\n"
     ]
    }
   ],
   "source": [
    "# Load relevant libraries.\n",
    "\n",
    "%pylab inline\n",
    "import matplotlib.pyplot as plt\n",
    "import numpy as np\n",
    "import pandas as pd\n",
    "#import Quandl\n",
    "import statsmodels.api as sm\n",
    "import statsmodels.formula.api as smf\n",
    "from statsmodels.graphics.api import abline_plot\n",
    "import patsy\n",
    "import seaborn as sns\n",
    "sns.set(context='notebook', style='whitegrid', palette='deep', font='sans-serif', font_scale=1, rc=None)\n",
    "import urllib2 as url"
   ]
  },
  {
   "cell_type": "code",
   "execution_count": 6,
   "metadata": {
    "collapsed": false,
    "scrolled": true
   },
   "outputs": [
    {
     "data": {
      "text/plain": [
       "'\\naapl_all = Quandl.get(\"YAHOO/AAPL\", trim_start=\"2010-1-1\", trim_end=\"2015-09-18\")\\nnasdaq_all = Quandl.get(\"NASDAQOMX/COMP\", trim_start=\"2010-1-1\", trim_end=\"2015-09-18\")\\naapl = aapl_all[\\'Adjusted Close\\']\\nnasdaq = nasdaq_all[\\'Index Value\\']\\naapl_returns = np.log(aapl / aapl.shift(1))\\nnasdaq_returns = np.log(nasdaq / nasdaq.shift(1))\\naapl_returns = aapl_returns.dropna()\\nnasdaq_returns = nasdaq_returns.dropna()\\naapl_returns = pd.DataFrame(aapl_returns)\\nnasdaq_returns = pd.DataFrame(nasdaq_returns)\\ndata = pd.merge(nasdaq_returns, aapl_returns, left_index=True, right_index=True)\\ndata.rename(columns={\\'Index Value\\':\\'nasdaq\\', \\'Adjusted Close\\':\\'aapl\\'}, inplace=True)\\nmod = smf.ols(formula=\\'aapl ~ nasdaq\\', data = data).fit()\\nprint(mod.summary())\\n'"
      ]
     },
     "execution_count": 6,
     "metadata": {},
     "output_type": "execute_result"
    }
   ],
   "source": [
    "# One more time.\n",
    "'''\n",
    "aapl_all = Quandl.get(\"YAHOO/AAPL\", trim_start=\"2010-1-1\", trim_end=\"2015-09-18\")\n",
    "nasdaq_all = Quandl.get(\"NASDAQOMX/COMP\", trim_start=\"2010-1-1\", trim_end=\"2015-09-18\")\n",
    "aapl = aapl_all['Adjusted Close']\n",
    "nasdaq = nasdaq_all['Index Value']\n",
    "aapl_returns = np.log(aapl / aapl.shift(1))\n",
    "nasdaq_returns = np.log(nasdaq / nasdaq.shift(1))\n",
    "aapl_returns = aapl_returns.dropna()\n",
    "nasdaq_returns = nasdaq_returns.dropna()\n",
    "aapl_returns = pd.DataFrame(aapl_returns)\n",
    "nasdaq_returns = pd.DataFrame(nasdaq_returns)\n",
    "data = pd.merge(nasdaq_returns, aapl_returns, left_index=True, right_index=True)\n",
    "data.rename(columns={'Index Value':'nasdaq', 'Adjusted Close':'aapl'}, inplace=True)\n",
    "mod = smf.ols(formula='aapl ~ nasdaq', data = data).fit()\n",
    "print(mod.summary())\n",
    "'''"
   ]
  },
  {
   "cell_type": "markdown",
   "metadata": {},
   "source": [
    "## R$^2$\n",
    "\n",
    "We already know that different packages produce different regression output, which are typically called \"regression diagnosgics.\"  Python's statsmodels basically mirrors the regression diagnostics produced by Stata.  We have already reviewed coefficients, standard errors, t values, and confidence intervals. \n",
    "\n",
    "As I noted, the R$^2$ \"goodness of fit\" metric is a frequently-cited regression diagnostic.  If a linear regression uses a constant (which should be included in practice), the R$^2$ is bounded between 0 and 1.  It measures the share of the variation in $y$ explained by the variation in the features used in a model.  Given this definition, \"bigger is better\" is the first place that people go to evaluate the quality of the model, which is unwarranted.  \n",
    "\n",
    "\"However, it can still be challenging to determine what is a good R$^2$ value, and in general, this will depend on the application.  For instance, in certain problems in physics, we may know that the data truly comes from a linear model with a small residual error.  In this case, we would expect to see an R$^2$ value that is extremely close to 1, and a substantially smaller R$^2$ might indicate serious problems with the experiment in which the data were generated.  On the other hand, in typical application in biology, pyschology, marketing and other domains, the linear model is at best an extremely rough approximation to the data, and residual errors due to other unmeasured factors are often very large.  In this setting, we would expect only a very small proportion of the variacne in the response to be explained by the predictor, and an R$^2$ value well below 0.1 might be more realistic.\"  Trevor Hastie, Robert Tibshirani, et al.\n",
    "\n",
    "The example I showed last time was meant to highlight this very point.  \n",
    "\n",
    "## Other Diagnostics to Assess Model Quality\n",
    "\n",
    "Adjusted R$^2$: A metric that captures the penalty in the use of a large number of features with little explanatory power.  \n",
    "\n",
    "AIC (the Akaike Information Criterion): a measure of the relative quality of a statistical model for a given set of data.  It captures the trade-off between the goodness of fit and the complexity of the model.  For example, if I have $N$ $(y,x)$ pairs, I could in principle fit an $N-1$ degree polynomial that passed through all points.  \n",
    "\n",
    "BIC (the Bayes Information Criterion): another measure of relative quality.  Rule of thumb: chose the model with the lowest BIC."
   ]
  },
  {
   "cell_type": "markdown",
   "metadata": {},
   "source": [
    "# Multivariate Regression Analysis"
   ]
  },
  {
   "cell_type": "markdown",
   "metadata": {},
   "source": [
    "It is trivial to extend the single-feature linear model to a linear model that simultaneously incorporates multiple features.  The interpretation of the results of a statistical model that uses multiple features is the same the interpretation of the partial derivative from the calculus of many variables: the effect of a small change in a particular feature on a label (or outcome).  \n",
    "\n",
    "A model with $K$ features, $x_{ik}$ and label $y_i$:\n",
    "\n",
    "$y_i=\\sum_{k=1}^Kx_{ik}\\cdot\\beta_k+\\epsilon_i = x_i^\\prime \\beta + \\epsilon_i$\n",
    "\n",
    "The $K$ features $x_{ik}$ influence the label $y_i$ through the $K$-vector, $\\beta$, which we estimate statistically.  A specific partial derivative interpretation.\n",
    "\n",
    "${\\displaystyle \\frac{\\partial E(y_i)}{\\partial x_{ik}}=\\beta_k}$\n",
    "\n",
    "(For those interested in ancient history: Frisch–Waugh–Lovell theorem.)\n",
    "\n",
    "Bottom line is simple: Fit the linear model with multiple features.  The basic approach to hypothesis testing remains unchanged. The challenge is the interpretation of the results, which we will discuss in detail.  "
   ]
  },
  {
   "cell_type": "code",
   "execution_count": 8,
   "metadata": {
    "collapsed": false
   },
   "outputs": [],
   "source": [
    "# Load data: Property sales records of single-family, owner-occupied houses in Staten Island between 2003 and early 2013.  \n",
    "# See https://app.enigma.io/table/us.states.ny.cities.nyc.property.annualized-sales?row=0&col=0&page=1&documentView=false\n",
    "# Often times lacking the convenience of an API, \n",
    "# it may be necessary to load data that has been formatted using other statistical learning environments.\n",
    "# Python's pandas allows us to do so in Python.\n",
    "# R's foreign library allow us to do so in R.\n",
    "\n",
    "sales = pd.read_stata('SI Sales Old.dta')"
   ]
  },
  {
   "cell_type": "code",
   "execution_count": 9,
   "metadata": {
    "collapsed": false
   },
   "outputs": [
    {
     "name": "stdout",
     "output_type": "stream",
     "text": [
      "<class 'pandas.core.frame.DataFrame'>\n",
      "Int64Index: 31680 entries, 0 to 31679\n",
      "Data columns (total 6 columns):\n",
      "price         31680 non-null float64\n",
      "unit_size     31680 non-null float32\n",
      "land_size     31680 non-null float32\n",
      "age           31680 non-null float32\n",
      "todt          31680 non-null float32\n",
      "sales_year    31680 non-null float32\n",
      "dtypes: float32(5), float64(1)\n",
      "memory usage: 1.1 MB\n",
      "None\n"
     ]
    }
   ],
   "source": [
    "# DATA DICTIONARY\n",
    "# price: Sales price in $\n",
    "# unit_size: Size of dwelling in square meters\n",
    "# land_size: Size of land on which dwelling sits in square meters\n",
    "# age: Age of dwelling in years at sale\n",
    "# todt: Indicator (or dummy variable) of whether a dwelling is in Todt Hill, Staten Island\n",
    "# sales_year: Year of sale\n",
    " \n",
    "print sales.info()"
   ]
  },
  {
   "cell_type": "code",
   "execution_count": 10,
   "metadata": {
    "collapsed": false
   },
   "outputs": [
    {
     "name": "stdout",
     "output_type": "stream",
     "text": [
      "                price     unit_size     land_size           age          todt  \\\n",
      "count    31680.000000  31680.000000  31680.000000  31680.000000  31680.000000   \n",
      "mean    402106.300221    161.038952    326.063384     35.846843      0.007102   \n",
      "std     239551.524308     79.404530    289.825501     31.082471      0.083968   \n",
      "min      50500.000000     20.067047     24.340586      0.000000      0.000000   \n",
      "25%     291975.000000    114.456497    185.806000      9.000000      0.000000   \n",
      "50%     371000.000000    145.671906    252.696167     27.000000      0.000000   \n",
      "75%     455000.000000    184.969879    380.902313     56.000000      0.000000   \n",
      "max    7700000.000000   1431.077759  10788.825195    119.000000      1.000000   \n",
      "\n",
      "         sales_year  \n",
      "count  31680.000000  \n",
      "mean    2006.567172  \n",
      "std        2.766369  \n",
      "min     2003.000000  \n",
      "25%     2004.000000  \n",
      "50%     2006.000000  \n",
      "75%     2009.000000  \n",
      "max     2013.000000  \n"
     ]
    }
   ],
   "source": [
    "# Summary Statistics\n",
    "# Note that I have cleaned the data for \"outliers\" (outside of the scope of this class).\n",
    "\n",
    "print sales.describe()"
   ]
  },
  {
   "cell_type": "code",
   "execution_count": 11,
   "metadata": {
    "collapsed": false
   },
   "outputs": [
    {
     "name": "stdout",
     "output_type": "stream",
     "text": [
      "               price  unit_size  land_size       age      todt  sales_year\n",
      "price       1.000000   0.549706   0.505356 -0.064088  0.352151    0.096092\n",
      "unit_size   0.549706   1.000000   0.446105 -0.201536  0.326307    0.023416\n",
      "land_size   0.505356   0.446105   1.000000  0.274697  0.346801    0.077402\n",
      "age        -0.064088  -0.201536   0.274697  1.000000  0.005157    0.125040\n",
      "todt        0.352151   0.326307   0.346801  0.005157  1.000000    0.012260\n",
      "sales_year  0.096092   0.023416   0.077402  0.125040  0.012260    1.000000\n"
     ]
    }
   ],
   "source": [
    "# Let's examine the correlation matrix.\n",
    "\n",
    "print sales.corr()"
   ]
  },
  {
   "cell_type": "code",
   "execution_count": 12,
   "metadata": {
    "collapsed": false
   },
   "outputs": [
    {
     "name": "stdout",
     "output_type": "stream",
     "text": [
      "                            OLS Regression Results                            \n",
      "==============================================================================\n",
      "Dep. Variable:                  price   R-squared:                       0.302\n",
      "Model:                            OLS   Adj. R-squared:                  0.302\n",
      "Method:                 Least Squares   F-statistic:                 1.372e+04\n",
      "Date:                Mon, 28 Sep 2015   Prob (F-statistic):               0.00\n",
      "Time:                        18:20:25   Log-Likelihood:            -4.3166e+05\n",
      "No. Observations:               31680   AIC:                         8.633e+05\n",
      "Df Residuals:                   31678   BIC:                         8.633e+05\n",
      "Df Model:                           1                                         \n",
      "Covariance Type:            nonrobust                                         \n",
      "==============================================================================\n",
      "                 coef    std err          t      P>|t|      [95.0% Conf. Int.]\n",
      "------------------------------------------------------------------------------\n",
      "Intercept    1.35e+05   2542.335     53.118      0.000       1.3e+05   1.4e+05\n",
      "unit_size   1658.3706     14.159    117.121      0.000      1630.618  1686.124\n",
      "==============================================================================\n",
      "Omnibus:                    51914.230   Durbin-Watson:                   1.973\n",
      "Prob(Omnibus):                  0.000   Jarque-Bera (JB):        103733692.864\n",
      "Skew:                          10.534   Prob(JB):                         0.00\n",
      "Kurtosis:                     282.539   Cond. No.                         406.\n",
      "==============================================================================\n",
      "\n",
      "Warnings:\n",
      "[1] Standard Errors assume that the covariance matrix of the errors is correctly specified.\n"
     ]
    }
   ],
   "source": [
    "# Start with bivariate linear model that explains the variation in sales prices by the size of the dwelling.\n",
    "\n",
    "mod = smf.ols(formula='price ~ unit_size', data = sales).fit()\n",
    "print(mod.summary())\n",
    "\n",
    "# How to intepret these results?  For every additional square meter of dwelling size, sales price is ~$1,658 higher.\n",
    "# The 95% Confidence Interval of this effect is [1630, 1686].\n",
    "# Average unit size is 161 square meters, with a standard deviation of 79 square meters.  \n",
    "# Therefore, an increase of one standard deviation in dwelling size would increase the sales price by 79 * $1,656 = $130,824."
   ]
  },
  {
   "cell_type": "code",
   "execution_count": 13,
   "metadata": {
    "collapsed": false
   },
   "outputs": [
    {
     "data": {
      "text/html": [
       "<table class=\"simpletable\">\n",
       "<tr>\n",
       "        <td>Model:</td>               <td>OLS</td>         <td>Adj. R-squared:</td>      <td>0.302</td>   \n",
       "</tr>\n",
       "<tr>\n",
       "  <td>Dependent Variable:</td>       <td>price</td>             <td>AIC:</td>         <td>863318.9733</td>\n",
       "</tr>\n",
       "<tr>\n",
       "         <td>Date:</td>        <td>2015-09-28 18:25</td>        <td>BIC:</td>         <td>863335.7002</td>\n",
       "</tr>\n",
       "<tr>\n",
       "   <td>No. Observations:</td>        <td>31680</td>        <td>Log-Likelihood:</td>   <td>-4.3166e+05</td>\n",
       "</tr>\n",
       "<tr>\n",
       "       <td>Df Model:</td>              <td>1</td>           <td>F-statistic:</td>      <td>1.372e+04</td> \n",
       "</tr>\n",
       "<tr>\n",
       "     <td>Df Residuals:</td>          <td>31678</td>      <td>Prob (F-statistic):</td>    <td>0.00</td>    \n",
       "</tr>\n",
       "<tr>\n",
       "      <td>R-squared:</td>            <td>0.302</td>            <td>Scale:</td>        <td>4.0046e+10</td> \n",
       "</tr>\n",
       "</table>\n",
       "<table class=\"simpletable\">\n",
       "<tr>\n",
       "      <td></td>         <th>Coef.</th>    <th>Std.Err.</th>      <th>t</th>     <th>P>|t|</th>   <th>[0.025</th>      <th>0.975]</th>   \n",
       "</tr>\n",
       "<tr>\n",
       "  <th>Intercept</th> <td>135043.8679</td> <td>2542.3346</td>  <td>53.1181</td> <td>0.0000</td> <td>130060.7932</td> <td>140026.9425</td>\n",
       "</tr>\n",
       "<tr>\n",
       "  <th>unit_size</th>  <td>1658.3706</td>   <td>14.1594</td>  <td>117.1215</td> <td>0.0000</td>  <td>1630.6176</td>   <td>1686.1236</td> \n",
       "</tr>\n",
       "</table>\n",
       "<table class=\"simpletable\">\n",
       "<tr>\n",
       "     <td>Omnibus:</td>    <td>51914.230</td>  <td>Durbin-Watson:</td>       <td>1.973</td>    \n",
       "</tr>\n",
       "<tr>\n",
       "  <td>Prob(Omnibus):</td>   <td>0.000</td>   <td>Jarque-Bera (JB):</td> <td>103733692.864</td>\n",
       "</tr>\n",
       "<tr>\n",
       "       <td>Skew:</td>      <td>10.534</td>       <td>Prob(JB):</td>         <td>0.000</td>    \n",
       "</tr>\n",
       "<tr>\n",
       "     <td>Kurtosis:</td>    <td>282.539</td>   <td>Condition No.:</td>        <td>406</td>     \n",
       "</tr>\n",
       "</table>"
      ],
      "text/plain": [
       "<class 'statsmodels.iolib.summary2.Summary'>\n",
       "\"\"\"\n",
       "                    Results: Ordinary least squares\n",
       "=======================================================================\n",
       "Model:               OLS               Adj. R-squared:      0.302      \n",
       "Dependent Variable:  price             AIC:                 863318.9733\n",
       "Date:                2015-09-28 18:25  BIC:                 863335.7002\n",
       "No. Observations:    31680             Log-Likelihood:      -4.3166e+05\n",
       "Df Model:            1                 F-statistic:         1.372e+04  \n",
       "Df Residuals:        31678             Prob (F-statistic):  0.00       \n",
       "R-squared:           0.302             Scale:               4.0046e+10 \n",
       "-----------------------------------------------------------------------\n",
       "             Coef.     Std.Err.    t     P>|t|     [0.025      0.975]  \n",
       "-----------------------------------------------------------------------\n",
       "Intercept 135043.8679 2542.3346  53.1181 0.0000 130060.7932 140026.9425\n",
       "unit_size   1658.3706   14.1594 117.1215 0.0000   1630.6176   1686.1236\n",
       "-----------------------------------------------------------------------\n",
       "Omnibus:            51914.230      Durbin-Watson:         1.973        \n",
       "Prob(Omnibus):      0.000          Jarque-Bera (JB):      103733692.864\n",
       "Skew:               10.534         Prob(JB):              0.000        \n",
       "Kurtosis:           282.539        Condition No.:         406          \n",
       "=======================================================================\n",
       "\n",
       "\"\"\""
      ]
     },
     "execution_count": 13,
     "metadata": {},
     "output_type": "execute_result"
    }
   ],
   "source": [
    "# Alternative table layout.\n",
    "\n",
    "mod.summary2()"
   ]
  },
  {
   "cell_type": "code",
   "execution_count": 14,
   "metadata": {
    "collapsed": false
   },
   "outputs": [
    {
     "name": "stdout",
     "output_type": "stream",
     "text": [
      "                            OLS Regression Results                            \n",
      "==============================================================================\n",
      "Dep. Variable:                  price   R-squared:                       0.387\n",
      "Model:                            OLS   Adj. R-squared:                  0.387\n",
      "Method:                 Least Squares   F-statistic:                     9985.\n",
      "Date:                Mon, 28 Sep 2015   Prob (F-statistic):               0.00\n",
      "Time:                        18:29:03   Log-Likelihood:            -4.2961e+05\n",
      "No. Observations:               31680   AIC:                         8.592e+05\n",
      "Df Residuals:                   31677   BIC:                         8.593e+05\n",
      "Df Model:                           2                                         \n",
      "Covariance Type:            nonrobust                                         \n",
      "==============================================================================\n",
      "                 coef    std err          t      P>|t|      [95.0% Conf. Int.]\n",
      "------------------------------------------------------------------------------\n",
      "Intercept   1.179e+05   2397.598     49.177      0.000      1.13e+05  1.23e+05\n",
      "unit_size   1221.3016     14.833     82.339      0.000      1192.229  1250.374\n",
      "land_size    268.4246      4.064     66.053      0.000       260.459   276.390\n",
      "==============================================================================\n",
      "Omnibus:                    54911.523   Durbin-Watson:                   1.975\n",
      "Prob(Omnibus):                  0.000   Jarque-Bera (JB):        162331043.514\n",
      "Skew:                          11.765   Prob(JB):                         0.00\n",
      "Kurtosis:                     352.892   Cond. No.                     1.05e+03\n",
      "==============================================================================\n",
      "\n",
      "Warnings:\n",
      "[1] Standard Errors assume that the covariance matrix of the errors is correctly specified.\n",
      "[2] The condition number is large, 1.05e+03. This might indicate that there are\n",
      "strong multicollinearity or other numerical problems.\n"
     ]
    }
   ],
   "source": [
    "# Perhaps we believe that more than one feature can simultaneously affect sales prices.\n",
    "# We can easily use multivariate regression to account for many features at once.\n",
    "# When we add an additional feature, namely the land size, we find that it has an independent effect.\n",
    "# Holding constant unit_size, an increase in land_size of one square meter independently increases the sales price by $268.\n",
    "# In addition, note that the effect of unit size on price has fallen from $1,658 to $1,221.\n",
    "# Moreover, the 95% Confidence Intervals do not overlap.\n",
    "# This is evidence of omitted variable bias (sometimes called the \"collinearity problem\").  \n",
    "# Failing to include land_size has biased up the measured effect of unit_size because the two features are positively correlated.\n",
    "# The two features, however, have independent effects on sales prices.\n",
    "# In this example, we can compare the R-squared measures across the two models because one is nested in the other.  \n",
    "# We see that the R-squared rises from 0.302 to 0.387, indicating a considerable improvement in the fit of the data.\n",
    "\n",
    "mod = smf.ols(formula='price ~ unit_size + land_size', data = sales).fit()\n",
    "print(mod.summary())"
   ]
  },
  {
   "cell_type": "code",
   "execution_count": 15,
   "metadata": {
    "collapsed": false
   },
   "outputs": [
    {
     "name": "stdout",
     "output_type": "stream",
     "text": [
      "                            OLS Regression Results                            \n",
      "==============================================================================\n",
      "Dep. Variable:                  price   R-squared:                       0.393\n",
      "Model:                            OLS   Adj. R-squared:                  0.393\n",
      "Method:                 Least Squares   F-statistic:                     6840.\n",
      "Date:                Mon, 28 Sep 2015   Prob (F-statistic):               0.00\n",
      "Time:                        18:34:14   Log-Likelihood:            -4.2945e+05\n",
      "No. Observations:               31680   AIC:                         8.589e+05\n",
      "Df Residuals:                   31676   BIC:                         8.589e+05\n",
      "Df Model:                           3                                         \n",
      "Covariance Type:            nonrobust                                         \n",
      "==============================================================================\n",
      "                 coef    std err          t      P>|t|      [95.0% Conf. Int.]\n",
      "------------------------------------------------------------------------------\n",
      "Intercept   1.496e+05   2940.848     50.854      0.000      1.44e+05  1.55e+05\n",
      "unit_size   1110.9812     15.927     69.755      0.000      1079.764  1142.198\n",
      "land_size    302.4288      4.445     68.038      0.000       293.716   311.141\n",
      "age         -696.5604     37.871    -18.393      0.000      -770.789  -622.332\n",
      "==============================================================================\n",
      "Omnibus:                    55260.071   Durbin-Watson:                   1.977\n",
      "Prob(Omnibus):                  0.000   Jarque-Bera (JB):        168661973.654\n",
      "Skew:                          11.921   Prob(JB):                         0.00\n",
      "Kurtosis:                     359.659   Cond. No.                     1.30e+03\n",
      "==============================================================================\n",
      "\n",
      "Warnings:\n",
      "[1] Standard Errors assume that the covariance matrix of the errors is correctly specified.\n",
      "[2] The condition number is large, 1.3e+03. This might indicate that there are\n",
      "strong multicollinearity or other numerical problems.\n"
     ]
    }
   ],
   "source": [
    "# Now let's examine what happens when we account for the age of the dwelling at the date of sale.\n",
    "# Thoughts about how age might affect sales prices?\n",
    "# Negative impact: old houses (of equal size) how lower sales prices.\n",
    "# Note, however, that there is little impact on the effects of the other features when we add age to the model.\n",
    "\n",
    "mod = smf.ols(formula='price ~ unit_size + land_size + age', data = sales).fit()\n",
    "print(mod.summary())"
   ]
  },
  {
   "cell_type": "code",
   "execution_count": 16,
   "metadata": {
    "collapsed": false
   },
   "outputs": [
    {
     "name": "stdout",
     "output_type": "stream",
     "text": [
      "                            OLS Regression Results                            \n",
      "==============================================================================\n",
      "Dep. Variable:                  price   R-squared:                       0.406\n",
      "Model:                            OLS   Adj. R-squared:                  0.406\n",
      "Method:                 Least Squares   F-statistic:                     5421.\n",
      "Date:                Mon, 28 Sep 2015   Prob (F-statistic):               0.00\n",
      "Time:                        18:35:17   Log-Likelihood:            -4.2910e+05\n",
      "No. Observations:               31680   AIC:                         8.582e+05\n",
      "Df Residuals:                   31675   BIC:                         8.582e+05\n",
      "Df Model:                           4                                         \n",
      "Covariance Type:            nonrobust                                         \n",
      "==============================================================================\n",
      "                 coef    std err          t      P>|t|      [95.0% Conf. Int.]\n",
      "------------------------------------------------------------------------------\n",
      "Intercept   1.674e+05   2985.210     56.076      0.000      1.62e+05  1.73e+05\n",
      "unit_size   1033.9862     16.017     64.556      0.000      1002.592  1065.380\n",
      "land_size    275.1814      4.514     60.956      0.000       266.333   284.030\n",
      "age         -671.3910     37.469    -17.919      0.000      -744.831  -597.951\n",
      "todt        3.574e+05   1.35e+04     26.565      0.000      3.31e+05  3.84e+05\n",
      "==============================================================================\n",
      "Omnibus:                    55772.049   Durbin-Watson:                   1.978\n",
      "Prob(Omnibus):                  0.000   Jarque-Bera (JB):        183883239.453\n",
      "Skew:                          12.140   Prob(JB):                         0.00\n",
      "Kurtosis:                     375.446   Cond. No.                     6.00e+03\n",
      "==============================================================================\n",
      "\n",
      "Warnings:\n",
      "[1] Standard Errors assume that the covariance matrix of the errors is correctly specified.\n",
      "[2] The condition number is large,  6e+03. This might indicate that there are\n",
      "strong multicollinearity or other numerical problems.\n"
     ]
    }
   ],
   "source": [
    "# This is an example of using dummy or indicator variables to capture potential \"discontinuities\" in our model.\n",
    "# I am told that by people at CUSP that Todt Hill is an upscale area in Staten Island.\n",
    "# Suppose we want to capture this feature of the data, which we can do using the indicator \"todt\". \n",
    "\n",
    "mod = smf.ols(formula='price ~ unit_size + land_size + age + todt', data = sales).fit()\n",
    "print(mod.summary())"
   ]
  },
  {
   "cell_type": "code",
   "execution_count": 17,
   "metadata": {
    "collapsed": false
   },
   "outputs": [
    {
     "name": "stdout",
     "output_type": "stream",
     "text": [
      "    price   unit_size   land_size  age  todt  sales_year  priceper1000\n",
      "0  327500  142.699005  232.257507   32     0        2011       327.500\n",
      "1  346314  195.096298  239.318130   10     0        2006       346.314\n",
      "2  349830  179.488602  201.413712    1     0        2006       349.830\n",
      "3  325000  174.750549  227.612350  106     0        2005       325.000\n",
      "4  285000   97.083633  271.741272  104     0        2003       285.000\n"
     ]
    }
   ],
   "source": [
    "# Scaling of data.  \n",
    "# Suppose we wanted to rescale the sales prices because they are measured in $ (and are large).\n",
    "# Rescale the label by dividing by 1000.\n",
    "\n",
    "sales['priceper1000'] = sales['price']/1000\n",
    "print sales.head()"
   ]
  },
  {
   "cell_type": "code",
   "execution_count": 18,
   "metadata": {
    "collapsed": false
   },
   "outputs": [
    {
     "name": "stdout",
     "output_type": "stream",
     "text": [
      "                            OLS Regression Results                            \n",
      "==============================================================================\n",
      "Dep. Variable:           priceper1000   R-squared:                       0.406\n",
      "Model:                            OLS   Adj. R-squared:                  0.406\n",
      "Method:                 Least Squares   F-statistic:                     5421.\n",
      "Date:                Mon, 28 Sep 2015   Prob (F-statistic):               0.00\n",
      "Time:                        18:37:27   Log-Likelihood:            -2.1026e+05\n",
      "No. Observations:               31680   AIC:                         4.205e+05\n",
      "Df Residuals:                   31675   BIC:                         4.206e+05\n",
      "Df Model:                           4                                         \n",
      "Covariance Type:            nonrobust                                         \n",
      "==============================================================================\n",
      "                 coef    std err          t      P>|t|      [95.0% Conf. Int.]\n",
      "------------------------------------------------------------------------------\n",
      "Intercept    167.3977      2.985     56.076      0.000       161.547   173.249\n",
      "unit_size      1.0340      0.016     64.556      0.000         1.003     1.065\n",
      "land_size      0.2752      0.005     60.956      0.000         0.266     0.284\n",
      "age           -0.6714      0.037    -17.919      0.000        -0.745    -0.598\n",
      "todt         357.4312     13.455     26.565      0.000       331.059   383.803\n",
      "==============================================================================\n",
      "Omnibus:                    55772.049   Durbin-Watson:                   1.978\n",
      "Prob(Omnibus):                  0.000   Jarque-Bera (JB):        183883239.453\n",
      "Skew:                          12.140   Prob(JB):                         0.00\n",
      "Kurtosis:                     375.446   Cond. No.                     6.00e+03\n",
      "==============================================================================\n",
      "\n",
      "Warnings:\n",
      "[1] Standard Errors assume that the covariance matrix of the errors is correctly specified.\n",
      "[2] The condition number is large,  6e+03. This might indicate that there are\n",
      "strong multicollinearity or other numerical problems.\n"
     ]
    }
   ],
   "source": [
    "# How does this rescaling affect our estimates?\n",
    "\n",
    "mod = smf.ols(formula='priceper1000 ~ unit_size + land_size + age + todt', data = sales).fit()\n",
    "print(mod.summary())\n",
    "#sm.stats.sandwich_covariance.cov_hc0(mod)"
   ]
  },
  {
   "cell_type": "code",
   "execution_count": 30,
   "metadata": {
    "collapsed": true
   },
   "outputs": [],
   "source": [
    "# It may be more relevant to consider this in terms of percent changes in values.  \n",
    "# For example, what is the percentage rate of change in sales prices given a percent change in unit size.\n",
    "# In economics, these are elasticities, which are unit-free measures.\n",
    "\n",
    "sales['logprice'] = np.log(sales['price'])\n",
    "sales['logunit'] = np.log(sales['unit_size'])\n",
    "sales['logland'] = np.log(sales['land_size']+1)\n",
    "sales['logage'] = np.log(sales['age']+1)"
   ]
  },
  {
   "cell_type": "code",
   "execution_count": 31,
   "metadata": {
    "collapsed": false
   },
   "outputs": [
    {
     "name": "stdout",
     "output_type": "stream",
     "text": [
      "                            OLS Regression Results                            \n",
      "==============================================================================\n",
      "Dep. Variable:               logprice   R-squared:                       0.365\n",
      "Model:                            OLS   Adj. R-squared:                  0.364\n",
      "Method:                 Least Squares   F-statistic:                     4542.\n",
      "Date:                Mon, 28 Sep 2015   Prob (F-statistic):               0.00\n",
      "Time:                        19:18:25   Log-Likelihood:                -12509.\n",
      "No. Observations:               31680   AIC:                         2.503e+04\n",
      "Df Residuals:                   31675   BIC:                         2.507e+04\n",
      "Df Model:                           4                                         \n",
      "Covariance Type:            nonrobust                                         \n",
      "==============================================================================\n",
      "                 coef    std err          t      P>|t|      [95.0% Conf. Int.]\n",
      "------------------------------------------------------------------------------\n",
      "Intercept      9.7682      0.029    331.851      0.000         9.711     9.826\n",
      "logunit        0.3405      0.006     54.774      0.000         0.328     0.353\n",
      "logland        0.2647      0.004     69.817      0.000         0.257     0.272\n",
      "logage        -0.0477      0.002    -24.344      0.000        -0.051    -0.044\n",
      "todt           0.4413      0.025     17.726      0.000         0.393     0.490\n",
      "==============================================================================\n",
      "Omnibus:                    10618.949   Durbin-Watson:                   1.972\n",
      "Prob(Omnibus):                  0.000   Jarque-Bera (JB):            72274.765\n",
      "Skew:                          -1.443   Prob(JB):                         0.00\n",
      "Kurtosis:                       9.813   Cond. No.                         127.\n",
      "==============================================================================\n",
      "\n",
      "Warnings:\n",
      "[1] Standard Errors assume that the covariance matrix of the errors is correctly specified.\n"
     ]
    }
   ],
   "source": [
    "# A 10% change in unit size increases sales price by 3.4%.\n",
    "# A 10% change in land size increases sales price by 2.6%.\n",
    "# A 10% change in age decreases sales prices by 0.5%.\n",
    "# Prices in Todt Hill are about 44% higher holding all else constant.\n",
    "# Is this model directly comparable to the one above?\n",
    "# No because we non-linearly transformed both the label and the features.\n",
    "\n",
    "mod = smf.ols(formula='logprice ~ logunit + logland + logage + todt', data = sales).fit()\n",
    "print(mod.summary())"
   ]
  },
  {
   "cell_type": "markdown",
   "metadata": {},
   "source": [
    "# The Linear Probability Model and The Logistic Classifier (or \"Logit\")"
   ]
  },
  {
   "cell_type": "markdown",
   "metadata": {},
   "source": [
    "The problem above examined a continuous label or dependent variable.  That is, $y$ was quantitative: the sales prices of single-family houses in Staten Island.  Often, we wish to examine a discrete or categorical label.  What is a categorical label?  An example would be eye color: $\\{$brown, green, blue$\\}$.  \n",
    "\n",
    "In economics, this is considered to be analysis of \"limited dependent variables,\" while in computer science, it is classification.  This different terminology refers to the same thing.  We will begin with the linear probability model (with multiple attributes), which allows us to seemless transition to the Logistic Classifier (or \"Logit\").\n",
    "\n",
    "This simple classifier is the ground upon which data scientists of all stripes converge.  It is a very important methodological technique that I want you to understand thoroughly."
   ]
  },
  {
   "cell_type": "markdown",
   "metadata": {},
   "source": [
    "## Latent Values"
   ]
  },
  {
   "cell_type": "markdown",
   "metadata": {},
   "source": [
    "One can think of categorical variable as being driven by an underlying DGP, and we as observers, observe only outcomes.\n",
    "\n",
    "Consider: $y_i^*=x_i^\\prime\\beta+\\epsilon_i$\n",
    "\n",
    "$y_i^*$ is a latent value for person i that is unobserved by us.  For example, you do not observe the value I place on this bottle of water.  You simple observe me drinking it.  In other words, you observe the outcome my choice set $\\{$drink, not drink$\\}$.  Another example would be observing someone taking a taxi.  You do not observe the value that someone places on the taxi ride.  You know that she has many alternative methods of transportation, all with varying values to her, but you observe the outcome of her choice.\n",
    "\n",
    "$x_i$ are a vector of features (or attributes or predictors or independent variables).  We observe these.\n",
    "\n",
    "$\\beta$ is a vector that measures how features affect the latent index, which we will estimate statistically. \n",
    "\n",
    "$\\epsilon_i$ retains its status as our ignorance.  \n",
    "\n",
    "What do we observe?\n",
    "\n",
    "${\\displaystyle d_i = }$\n",
    "$\\left\\{ \\begin{array}{l l} \n",
    "{1} & \\quad \\text{if person i takes a cab, which happens when } y_i^*\\ge0\\\\ \n",
    "{0} & \\quad \\text{if person i does not take a cab, which happens when } y_i^*\\lt0 \\\\\n",
    "\\end{array} \\right.$\n",
    "\n",
    "The latent variable approach has become a very popular modeling tool in statistical learning.  "
   ]
  },
  {
   "cell_type": "code",
   "execution_count": 59,
   "metadata": {
    "collapsed": false
   },
   "outputs": [
    {
     "name": "stdout",
     "output_type": "stream",
     "text": [
      "<class 'pandas.core.frame.DataFrame'>\n",
      "Int64Index: 400 entries, 0 to 399\n",
      "Data columns (total 4 columns):\n",
      "admit    400 non-null int64\n",
      "gre      400 non-null int64\n",
      "gpa      400 non-null float64\n",
      "rank     400 non-null int64\n",
      "dtypes: float64(1), int64(3)\n",
      "memory usage: 15.6 KB\n",
      "None\n",
      "            admit         gre         gpa        rank\n",
      "count  400.000000  400.000000  400.000000  400.000000\n",
      "mean     0.317500  587.700000    3.389900    2.317500\n",
      "std      0.466087  115.516536    0.380567    0.723188\n",
      "min      0.000000  220.000000    2.260000    1.000000\n",
      "25%      0.000000  520.000000    3.130000    2.000000\n",
      "50%      0.000000  580.000000    3.395000    2.000000\n",
      "75%      1.000000  660.000000    3.670000    3.000000\n",
      "max      1.000000  800.000000    4.000000    3.000000\n"
     ]
    },
    {
     "name": "stderr",
     "output_type": "stream",
     "text": [
      "C:\\Users\\Jeremy\\Anaconda\\lib\\site-packages\\IPython\\kernel\\__main__.py:4: SettingWithCopyWarning: \n",
      "A value is trying to be set on a copy of a slice from a DataFrame\n",
      "\n",
      "See the the caveats in the documentation: http://pandas.pydata.org/pandas-docs/stable/indexing.html#indexing-view-versus-copy\n"
     ]
    }
   ],
   "source": [
    "# Read in some data on graduate school admissions.  These data are fictional, but useful.\n",
    "\n",
    "#data = pd.read_csv(\"http://www.ats.ucla.edu/stat/data/binary.csv\")\n",
    "data['rank'][data['rank']==4] = 3\n",
    "print data.info()\n",
    "print data.describe()"
   ]
  },
  {
   "cell_type": "markdown",
   "metadata": {},
   "source": [
    "## Lab Session\n",
    "\n",
    "Find the correlation matrix between the variables.\n",
    "Run a few linear models."
   ]
  },
  {
   "cell_type": "code",
   "execution_count": 33,
   "metadata": {
    "collapsed": false
   },
   "outputs": [
    {
     "name": "stdout",
     "output_type": "stream",
     "text": [
      "          admit       gre       gpa      rank\n",
      "admit  1.000000  0.184434  0.178212 -0.242513\n",
      "gre    0.184434  1.000000  0.384266 -0.123447\n",
      "gpa    0.178212  0.384266  1.000000 -0.057461\n",
      "rank  -0.242513 -0.123447 -0.057461  1.000000\n"
     ]
    }
   ],
   "source": [
    "print data.corr()"
   ]
  },
  {
   "cell_type": "code",
   "execution_count": 60,
   "metadata": {
    "collapsed": false
   },
   "outputs": [
    {
     "name": "stdout",
     "output_type": "stream",
     "text": [
      "                            OLS Regression Results                            \n",
      "==============================================================================\n",
      "Dep. Variable:                  admit   R-squared:                       0.100\n",
      "Model:                            OLS   Adj. R-squared:                  0.091\n",
      "Method:                 Least Squares   F-statistic:                     10.96\n",
      "Date:                Mon, 28 Sep 2015   Prob (F-statistic):           1.95e-08\n",
      "Time:                        20:19:45   Log-Likelihood:                -240.68\n",
      "No. Observations:                 400   AIC:                             491.4\n",
      "Df Residuals:                     395   BIC:                             511.3\n",
      "Df Model:                           4                                         \n",
      "Covariance Type:            nonrobust                                         \n",
      "================================================================================\n",
      "                   coef    std err          t      P>|t|      [95.0% Conf. Int.]\n",
      "--------------------------------------------------------------------------------\n",
      "Intercept       -0.2680      0.215     -1.247      0.213        -0.691     0.155\n",
      "C(rank)[T.2]    -0.1621      0.068     -2.397      0.017        -0.295    -0.029\n",
      "C(rank)[T.3]    -0.3021      0.066     -4.582      0.000        -0.432    -0.172\n",
      "gre              0.0004      0.000      2.028      0.043      1.31e-05     0.001\n",
      "gpa              0.1586      0.064      2.496      0.013         0.034     0.284\n",
      "==============================================================================\n",
      "Omnibus:                      150.845   Durbin-Watson:                   1.959\n",
      "Prob(Omnibus):                  0.000   Jarque-Bera (JB):               50.494\n",
      "Skew:                           0.678   Prob(JB):                     1.08e-11\n",
      "Kurtosis:                       1.908   Cond. No.                     6.01e+03\n",
      "==============================================================================\n",
      "\n",
      "Warnings:\n",
      "[1] Standard Errors assume that the covariance matrix of the errors is correctly specified.\n",
      "[2] The condition number is large, 6.01e+03. This might indicate that there are\n",
      "strong multicollinearity or other numerical problems.\n"
     ]
    }
   ],
   "source": [
    "# School rank is a categorical feature, and we should capture this aspect using C(rank)\n",
    "# C(rank) tells statsmodels to convert the categorical variable into indicator variables and omit one of them\n",
    "# The omitted categorical indicator is the reference category.\n",
    "# Let's interpret the results from the linear probability model using the summary statistics from the data.\n",
    "# GRE: Graduate Record Examine: a one point increase in GRE increases probability of admission by 0.0004 or 0.04%\n",
    "# GPA: Grade Point Average: a one point increase in GPA increases probability of admission by 0.156 or 15.6%.  \n",
    "# rank: Going to a tier 2 school reduces probabilty of admission by 0.1624 or 16.24% (relative to a tier 1 school).\n",
    "\n",
    "mod = smf.ols(formula='admit ~ gre + gpa + C(rank)', data = data).fit()\n",
    "print(mod.summary())\n",
    "#print data.describe()"
   ]
  },
  {
   "cell_type": "code",
   "execution_count": 44,
   "metadata": {
    "collapsed": false
   },
   "outputs": [
    {
     "name": "stdout",
     "output_type": "stream",
     "text": [
      "            admit         gre         gpa       rank\n",
      "count  400.000000  400.000000  400.000000  400.00000\n",
      "mean     0.317500  587.700000    3.389900    2.48500\n",
      "std      0.466087  115.516536    0.380567    0.94446\n",
      "min      0.000000  220.000000    2.260000    1.00000\n",
      "25%      0.000000  520.000000    3.130000    2.00000\n",
      "50%      0.000000  580.000000    3.395000    2.00000\n",
      "75%      1.000000  660.000000    3.670000    3.00000\n",
      "max      1.000000  800.000000    4.000000    4.00000\n",
      "\n",
      "Intercept      -0.258910\n",
      "C(rank)[T.2]   -0.162365\n",
      "C(rank)[T.3]   -0.290570\n",
      "C(rank)[T.4]   -0.323026\n",
      "gre             0.000430\n",
      "gpa             0.155535\n",
      "dtype: float64\n",
      "\n",
      "0.358432056382\n"
     ]
    }
   ],
   "source": [
    "# Let's make a prediction of admission for the \"average\" applicant at a tier 2 school.\n",
    "# How might we generate a 95% confidence interval on this prediction?  You did it in Homework 2.  It's called bootstrapping.\n",
    "# Remember the prediction for later.\n",
    "\n",
    "print data.describe()\n",
    "print \n",
    "print mod.params\n",
    "print\n",
    "print (mod.params['Intercept'] + mod.params['C(rank)[T.2]'] + mod.params['gre'] *587.7 + mod.params['gpa'] * 3.3899)"
   ]
  },
  {
   "cell_type": "markdown",
   "metadata": {},
   "source": [
    "## The Logistic Classifier\n",
    "\n",
    "We are going to change the linear model to the following:\n",
    "\n",
    "$Pr(d_i=1)=x_i^\\prime\\beta+\\epsilon_i$\n",
    "\n",
    "We will then impose a distributional assumption on $\\epsilon_i$, namely that it is logistically distributed.\n",
    "\n",
    "${\\displaystyle Pr(d_i=1) = \\frac{\\exp(x_i^\\prime\\beta)}{1+\\exp(x_i^\\prime\\beta)}}$ \n",
    "\n",
    "We see immediately that this is NOT a linear model (that is, a model that is linear in $\\beta$).\n",
    "\n",
    "${\\displaystyle Pr(d_i=0) = 1 - Pr(d_i=1) = 1 - \\frac{\\exp(x_i^\\prime\\beta)}{1+\\exp(x_i^\\prime\\beta)} = \\frac{1}{1+\\exp(x_i^\\prime\\beta)}}$\n",
    "\n",
    "An \"odds ratio\":\n",
    "\n",
    "${\\displaystyle \\frac{Pr(d_i=1)}{Pr(d_i=0)} = \\frac{Pr(d_i=1)}{1 - Pr(d_i=1)} = \\exp(x_i^\\prime\\beta)}$\n",
    "\n",
    "This implies that the log-odds ratio (or \"logit\") is:\n",
    "\n",
    "${\\displaystyle \\log\\big(\\frac{Pr(d_i=1)}{1 - Pr(d_i=1)}\\big) = x_i^\\prime\\beta}$, which is linear in $\\beta$.\n",
    "\n",
    "To address the estimation of the parameters of interest, we need to construct a likelihood function that we will tell the computer to optimize.  Start by constructing the likelihood for observation $i$:\n",
    "\n",
    "${\\displaystyle l_i = Pr(d_i=1)^{d_i}\\cdot Pr(d_i=0)^{(1-d_i)}=\\frac{\\exp(x_i^\\prime\\beta)}{1+\\exp(x_i^\\prime\\beta)}^{d_1}\\frac{1}{1+\\exp(x_i^\\prime\\beta)}^{(1-d_i)}}$\n",
    "\n",
    "If we make some assumptions we can write:\n",
    "\n",
    "${\\displaystyle L = \\prod_{i=1}^N l_i = \\prod_{i=1}^N \\frac{\\exp(x_i^\\prime\\beta)}{1+\\exp(x_i^\\prime\\beta)}^{d_1}\\frac{1}{1+\\exp(x_i^\\prime\\beta)}^{(1-d_i)}}$\n",
    "\n",
    "Goal is to tell the computer to maximize $L$ with respect to $\\beta$ given the data we have. \n",
    "\n",
    "Once we have done that, we can make probabilistic predictions (or classifications)."
   ]
  },
  {
   "cell_type": "code",
   "execution_count": null,
   "metadata": {
    "collapsed": false
   },
   "outputs": [],
   "source": [
    "# Let's fit the logit.\n",
    "\n",
    "logit_mod = smf.logit('admit ~ gre + gpa + C(rank)', data = data).fit()\n",
    "print\n",
    "print(logit_mod.summary())"
   ]
  },
  {
   "cell_type": "markdown",
   "metadata": {},
   "source": [
    "What are these logit coefficients?\n",
    "Big lesson: Unlike the linear probability model, shown below, they cannot be directly interpreted.\n",
    "Note, however, the similarities.  \n",
    "\n",
    "1. The signs are identical.\n",
    "2. The relative magnitudes are similar.\n",
    "3. The z and the t are (relatively) similar."
   ]
  },
  {
   "cell_type": "code",
   "execution_count": null,
   "metadata": {
    "collapsed": false
   },
   "outputs": [],
   "source": [
    "print(mod.summary())"
   ]
  },
  {
   "cell_type": "code",
   "execution_count": null,
   "metadata": {
    "collapsed": false
   },
   "outputs": [],
   "source": [
    "# Again we can make a prediction, the probability of admission or Pr(d=1), \n",
    "# using the logistic formula above.\n",
    "# Average features at rank 2 school.\n",
    "\n",
    "print data.describe()\n",
    "print \n",
    "print logit_mod.params\n",
    "print\n",
    "e = np.exp(logit_mod.params['Intercept'] + logit_mod.params['C(rank)[T.2]'] + \n",
    "           logit_mod.params['gre'] *587.7 + logit_mod.params['gpa'] * 3.3899)\n",
    "print(e / (1 + e))"
   ]
  },
  {
   "cell_type": "code",
   "execution_count": null,
   "metadata": {
    "collapsed": false
   },
   "outputs": [],
   "source": [
    "# We can also generate marginal effects, \n",
    "# which are the change in probability of admission given a \"small\" change in the features. \n",
    "# Note their similarilities to the regression estimates from the linear probability model.\n",
    "\n",
    "marginal = logit_mod.get_margeff()\n",
    "print(marginal.summary())\n",
    "print\n",
    "print mod.params"
   ]
  },
  {
   "cell_type": "code",
   "execution_count": 21,
   "metadata": {
    "collapsed": false
   },
   "outputs": [
    {
     "data": {
      "text/plain": [
       "<matplotlib.collections.PathCollection at 0xe8726d0>"
      ]
     },
     "execution_count": 21,
     "metadata": {},
     "output_type": "execute_result"
    },
    {
     "data": {
      "image/png": "[encoded data removed]",
      "text/plain": [
       "<matplotlib.figure.Figure at 0xe595af0>"
      ]
     },
     "metadata": {},
     "output_type": "display_data"
    }
   ],
   "source": [
    "figure, ax = plt.subplots(figsize=(12,10))\n",
    "ax.scatter(sales['age'],sales['price'])"
   ]
  },
  {
   "cell_type": "code",
   "execution_count": 25,
   "metadata": {
    "collapsed": false
   },
   "outputs": [
    {
     "name": "stdout",
     "output_type": "stream",
     "text": [
      "                            OLS Regression Results                            \n",
      "==============================================================================\n",
      "Dep. Variable:                  price   R-squared:                       0.409\n",
      "Model:                            OLS   Adj. R-squared:                  0.409\n",
      "Method:                 Least Squares   F-statistic:                     5479.\n",
      "Date:                Mon, 28 Sep 2015   Prob (F-statistic):               0.00\n",
      "Time:                        18:56:28   Log-Likelihood:            -4.2903e+05\n",
      "No. Observations:               31680   AIC:                         8.581e+05\n",
      "Df Residuals:                   31675   BIC:                         8.581e+05\n",
      "Df Model:                           4                                         \n",
      "Covariance Type:            nonrobust                                         \n",
      "==============================================================================\n",
      "                 coef    std err          t      P>|t|      [95.0% Conf. Int.]\n",
      "------------------------------------------------------------------------------\n",
      "Intercept   1.604e+05   2685.491     59.714      0.000      1.55e+05  1.66e+05\n",
      "unit_size   1040.1782     15.571     66.801      0.000      1009.658  1070.698\n",
      "land_size    274.5762      4.380     62.695      0.000       265.992   283.160\n",
      "age2          -7.9097      0.369    -21.456      0.000        -8.632    -7.187\n",
      "todt        3.539e+05   1.34e+04     26.354      0.000      3.28e+05   3.8e+05\n",
      "==============================================================================\n",
      "Omnibus:                    55934.240   Durbin-Watson:                   1.978\n",
      "Prob(Omnibus):                  0.000   Jarque-Bera (JB):        186639750.310\n",
      "Skew:                          12.216   Prob(JB):                         0.00\n",
      "Kurtosis:                     378.229   Cond. No.                     4.92e+04\n",
      "==============================================================================\n",
      "\n",
      "Warnings:\n",
      "[1] Standard Errors assume that the covariance matrix of the errors is correctly specified.\n",
      "[2] The condition number is large, 4.92e+04. This might indicate that there are\n",
      "strong multicollinearity or other numerical problems.\n"
     ]
    }
   ],
   "source": [
    "sales['age2'] = sales['age']**2\n",
    "mod = smf.ols(formula='price ~ unit_size + land_size + age2 + todt', data = sales).fit()\n",
    "print(mod.summary())"
   ]
  },
  {
   "cell_type": "code",
   "execution_count": null,
   "metadata": {
    "collapsed": true
   },
   "outputs": [],
   "source": []
  }
 ],
 "metadata": {
  "kernelspec": {
   "display_name": "Python 2",
   "language": "python",
   "name": "python2"
  },
  "language_info": {
   "codemirror_mode": {
    "name": "ipython",
    "version": 2
   },
   "file_extension": ".py",
   "mimetype": "text/x-python",
   "name": "python",
   "nbconvert_exporter": "python",
   "pygments_lexer": "ipython2",
   "version": "2.7.10"
  }
 },
 "nbformat": 4,
 "nbformat_minor": 0
}
